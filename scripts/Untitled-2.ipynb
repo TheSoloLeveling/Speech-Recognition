{
 "cells": [
  {
   "cell_type": "code",
   "execution_count": 6,
   "metadata": {},
   "outputs": [],
   "source": [
    "from tensorflow.keras.utils import to_categorical\n",
    "from sklearn.preprocessing import OneHotEncoder\n",
    "from sklearn.model_selection import train_test_split\n",
    "from imutils import paths\n",
    "import pandas as pd\n",
    "import seaborn as sns\n",
    "import matplotlib.pyplot as plt\n",
    "import numpy as np\n",
    "import cv2\n",
    "import os\n",
    "from tqdm import tqdm\n",
    "from scipy import signal\n",
    "from scipy.io import wavfile\n",
    "import matplotlib.pyplot as plt\n",
    "import IPython.display as ipd\n",
    "import librosa\n",
    "\n",
    "%matplotlib inline"
   ]
  },
  {
   "cell_type": "code",
   "execution_count": 7,
   "metadata": {},
   "outputs": [],
   "source": [
    "audios_dir = r'C:\\Users\\Tuf F15\\Desktop\\DATASET\\train\\audio'"
   ]
  },
  {
   "cell_type": "code",
   "execution_count": 8,
   "metadata": {},
   "outputs": [],
   "source": [
    "words=[\"yes\", \"no\", \"one\", \"two\"]"
   ]
  },
  {
   "cell_type": "code",
   "execution_count": 25,
   "metadata": {},
   "outputs": [
    {
     "ename": "FileNotFoundError",
     "evalue": "[WinError 2] Le fichier spécifié est introuvable",
     "output_type": "error",
     "traceback": [
      "\u001b[1;31m---------------------------------------------------------------------------\u001b[0m",
      "\u001b[1;31mFileNotFoundError\u001b[0m                         Traceback (most recent call last)",
      "\u001b[1;32m<ipython-input-25-9673a4b7cc94>\u001b[0m in \u001b[0;36m<module>\u001b[1;34m\u001b[0m\n\u001b[0;32m      2\u001b[0m \u001b[1;33m\u001b[0m\u001b[0m\n\u001b[0;32m      3\u001b[0m \u001b[0maudio_file\u001b[0m\u001b[1;33m=\u001b[0m \u001b[1;34mr\"C:\\Users\\Tuf F15\\Desktop\\test.wav\"\u001b[0m\u001b[1;33m\u001b[0m\u001b[1;33m\u001b[0m\u001b[0m\n\u001b[1;32m----> 4\u001b[1;33m \u001b[0maudio\u001b[0m \u001b[1;33m=\u001b[0m \u001b[0mAudioSegment\u001b[0m\u001b[1;33m.\u001b[0m\u001b[0mfrom_wav\u001b[0m\u001b[1;33m(\u001b[0m\u001b[0maudio_file\u001b[0m\u001b[1;33m)\u001b[0m\u001b[1;33m\u001b[0m\u001b[1;33m\u001b[0m\u001b[0m\n\u001b[0m\u001b[0;32m      5\u001b[0m \u001b[0mlist_of_timestamps\u001b[0m \u001b[1;33m=\u001b[0m \u001b[1;33m[\u001b[0m \u001b[1;36m10\u001b[0m\u001b[1;33m,\u001b[0m \u001b[1;36m20\u001b[0m\u001b[1;33m,\u001b[0m \u001b[1;36m30\u001b[0m\u001b[1;33m,\u001b[0m \u001b[1;36m40\u001b[0m\u001b[1;33m,\u001b[0m \u001b[1;36m50\u001b[0m \u001b[1;33m,\u001b[0m\u001b[1;36m60\u001b[0m\u001b[1;33m,\u001b[0m \u001b[1;36m70\u001b[0m\u001b[1;33m,\u001b[0m \u001b[1;36m80\u001b[0m\u001b[1;33m,\u001b[0m \u001b[1;36m90\u001b[0m \u001b[1;33m]\u001b[0m \u001b[1;31m#and so on in *seconds*\u001b[0m\u001b[1;33m\u001b[0m\u001b[1;33m\u001b[0m\u001b[0m\n\u001b[0;32m      6\u001b[0m \u001b[1;33m\u001b[0m\u001b[0m\n",
      "\u001b[1;32mc:\\Users\\Tuf F15\\anaconda3\\lib\\site-packages\\pydub\\audio_segment.py\u001b[0m in \u001b[0;36mfrom_wav\u001b[1;34m(cls, file, parameters)\u001b[0m\n\u001b[0;32m    806\u001b[0m     \u001b[1;33m@\u001b[0m\u001b[0mclassmethod\u001b[0m\u001b[1;33m\u001b[0m\u001b[1;33m\u001b[0m\u001b[0m\n\u001b[0;32m    807\u001b[0m     \u001b[1;32mdef\u001b[0m \u001b[0mfrom_wav\u001b[0m\u001b[1;33m(\u001b[0m\u001b[0mcls\u001b[0m\u001b[1;33m,\u001b[0m \u001b[0mfile\u001b[0m\u001b[1;33m,\u001b[0m \u001b[0mparameters\u001b[0m\u001b[1;33m=\u001b[0m\u001b[1;32mNone\u001b[0m\u001b[1;33m)\u001b[0m\u001b[1;33m:\u001b[0m\u001b[1;33m\u001b[0m\u001b[1;33m\u001b[0m\u001b[0m\n\u001b[1;32m--> 808\u001b[1;33m         \u001b[1;32mreturn\u001b[0m \u001b[0mcls\u001b[0m\u001b[1;33m.\u001b[0m\u001b[0mfrom_file\u001b[0m\u001b[1;33m(\u001b[0m\u001b[0mfile\u001b[0m\u001b[1;33m,\u001b[0m \u001b[1;34m'wav'\u001b[0m\u001b[1;33m,\u001b[0m \u001b[0mparameters\u001b[0m\u001b[1;33m=\u001b[0m\u001b[0mparameters\u001b[0m\u001b[1;33m)\u001b[0m\u001b[1;33m\u001b[0m\u001b[1;33m\u001b[0m\u001b[0m\n\u001b[0m\u001b[0;32m    809\u001b[0m \u001b[1;33m\u001b[0m\u001b[0m\n\u001b[0;32m    810\u001b[0m     \u001b[1;33m@\u001b[0m\u001b[0mclassmethod\u001b[0m\u001b[1;33m\u001b[0m\u001b[1;33m\u001b[0m\u001b[0m\n",
      "\u001b[1;32mc:\\Users\\Tuf F15\\anaconda3\\lib\\site-packages\\pydub\\audio_segment.py\u001b[0m in \u001b[0;36mfrom_file\u001b[1;34m(cls, file, format, codec, parameters, start_second, duration, **kwargs)\u001b[0m\n\u001b[0;32m    726\u001b[0m             \u001b[0minfo\u001b[0m \u001b[1;33m=\u001b[0m \u001b[1;32mNone\u001b[0m\u001b[1;33m\u001b[0m\u001b[1;33m\u001b[0m\u001b[0m\n\u001b[0;32m    727\u001b[0m         \u001b[1;32melse\u001b[0m\u001b[1;33m:\u001b[0m\u001b[1;33m\u001b[0m\u001b[1;33m\u001b[0m\u001b[0m\n\u001b[1;32m--> 728\u001b[1;33m             \u001b[0minfo\u001b[0m \u001b[1;33m=\u001b[0m \u001b[0mmediainfo_json\u001b[0m\u001b[1;33m(\u001b[0m\u001b[0morig_file\u001b[0m\u001b[1;33m,\u001b[0m \u001b[0mread_ahead_limit\u001b[0m\u001b[1;33m=\u001b[0m\u001b[0mread_ahead_limit\u001b[0m\u001b[1;33m)\u001b[0m\u001b[1;33m\u001b[0m\u001b[1;33m\u001b[0m\u001b[0m\n\u001b[0m\u001b[0;32m    729\u001b[0m         \u001b[1;32mif\u001b[0m \u001b[0minfo\u001b[0m\u001b[1;33m:\u001b[0m\u001b[1;33m\u001b[0m\u001b[1;33m\u001b[0m\u001b[0m\n\u001b[0;32m    730\u001b[0m             audio_streams = [x for x in info['streams']\n",
      "\u001b[1;32mc:\\Users\\Tuf F15\\anaconda3\\lib\\site-packages\\pydub\\utils.py\u001b[0m in \u001b[0;36mmediainfo_json\u001b[1;34m(filepath, read_ahead_limit)\u001b[0m\n\u001b[0;32m    272\u001b[0m \u001b[1;33m\u001b[0m\u001b[0m\n\u001b[0;32m    273\u001b[0m     \u001b[0mcommand\u001b[0m \u001b[1;33m=\u001b[0m \u001b[1;33m[\u001b[0m\u001b[0mprober\u001b[0m\u001b[1;33m,\u001b[0m \u001b[1;34m'-of'\u001b[0m\u001b[1;33m,\u001b[0m \u001b[1;34m'json'\u001b[0m\u001b[1;33m]\u001b[0m \u001b[1;33m+\u001b[0m \u001b[0mcommand_args\u001b[0m\u001b[1;33m\u001b[0m\u001b[1;33m\u001b[0m\u001b[0m\n\u001b[1;32m--> 274\u001b[1;33m     \u001b[0mres\u001b[0m \u001b[1;33m=\u001b[0m \u001b[0mPopen\u001b[0m\u001b[1;33m(\u001b[0m\u001b[0mcommand\u001b[0m\u001b[1;33m,\u001b[0m \u001b[0mstdin\u001b[0m\u001b[1;33m=\u001b[0m\u001b[0mstdin_parameter\u001b[0m\u001b[1;33m,\u001b[0m \u001b[0mstdout\u001b[0m\u001b[1;33m=\u001b[0m\u001b[0mPIPE\u001b[0m\u001b[1;33m,\u001b[0m \u001b[0mstderr\u001b[0m\u001b[1;33m=\u001b[0m\u001b[0mPIPE\u001b[0m\u001b[1;33m)\u001b[0m\u001b[1;33m\u001b[0m\u001b[1;33m\u001b[0m\u001b[0m\n\u001b[0m\u001b[0;32m    275\u001b[0m     \u001b[0moutput\u001b[0m\u001b[1;33m,\u001b[0m \u001b[0mstderr\u001b[0m \u001b[1;33m=\u001b[0m \u001b[0mres\u001b[0m\u001b[1;33m.\u001b[0m\u001b[0mcommunicate\u001b[0m\u001b[1;33m(\u001b[0m\u001b[0minput\u001b[0m\u001b[1;33m=\u001b[0m\u001b[0mstdin_data\u001b[0m\u001b[1;33m)\u001b[0m\u001b[1;33m\u001b[0m\u001b[1;33m\u001b[0m\u001b[0m\n\u001b[0;32m    276\u001b[0m     \u001b[0moutput\u001b[0m \u001b[1;33m=\u001b[0m \u001b[0moutput\u001b[0m\u001b[1;33m.\u001b[0m\u001b[0mdecode\u001b[0m\u001b[1;33m(\u001b[0m\u001b[1;34m\"utf-8\"\u001b[0m\u001b[1;33m,\u001b[0m \u001b[1;34m'ignore'\u001b[0m\u001b[1;33m)\u001b[0m\u001b[1;33m\u001b[0m\u001b[1;33m\u001b[0m\u001b[0m\n",
      "\u001b[1;32mc:\\Users\\Tuf F15\\anaconda3\\lib\\subprocess.py\u001b[0m in \u001b[0;36m__init__\u001b[1;34m(self, args, bufsize, executable, stdin, stdout, stderr, preexec_fn, close_fds, shell, cwd, env, universal_newlines, startupinfo, creationflags, restore_signals, start_new_session, pass_fds, encoding, errors, text)\u001b[0m\n\u001b[0;32m    856\u001b[0m                             encoding=encoding, errors=errors)\n\u001b[0;32m    857\u001b[0m \u001b[1;33m\u001b[0m\u001b[0m\n\u001b[1;32m--> 858\u001b[1;33m             self._execute_child(args, executable, preexec_fn, close_fds,\n\u001b[0m\u001b[0;32m    859\u001b[0m                                 \u001b[0mpass_fds\u001b[0m\u001b[1;33m,\u001b[0m \u001b[0mcwd\u001b[0m\u001b[1;33m,\u001b[0m \u001b[0menv\u001b[0m\u001b[1;33m,\u001b[0m\u001b[1;33m\u001b[0m\u001b[1;33m\u001b[0m\u001b[0m\n\u001b[0;32m    860\u001b[0m                                 \u001b[0mstartupinfo\u001b[0m\u001b[1;33m,\u001b[0m \u001b[0mcreationflags\u001b[0m\u001b[1;33m,\u001b[0m \u001b[0mshell\u001b[0m\u001b[1;33m,\u001b[0m\u001b[1;33m\u001b[0m\u001b[1;33m\u001b[0m\u001b[0m\n",
      "\u001b[1;32mc:\\Users\\Tuf F15\\anaconda3\\lib\\subprocess.py\u001b[0m in \u001b[0;36m_execute_child\u001b[1;34m(self, args, executable, preexec_fn, close_fds, pass_fds, cwd, env, startupinfo, creationflags, shell, p2cread, p2cwrite, c2pread, c2pwrite, errread, errwrite, unused_restore_signals, unused_start_new_session)\u001b[0m\n\u001b[0;32m   1309\u001b[0m             \u001b[1;31m# Start the process\u001b[0m\u001b[1;33m\u001b[0m\u001b[1;33m\u001b[0m\u001b[1;33m\u001b[0m\u001b[0m\n\u001b[0;32m   1310\u001b[0m             \u001b[1;32mtry\u001b[0m\u001b[1;33m:\u001b[0m\u001b[1;33m\u001b[0m\u001b[1;33m\u001b[0m\u001b[0m\n\u001b[1;32m-> 1311\u001b[1;33m                 hp, ht, pid, tid = _winapi.CreateProcess(executable, args,\n\u001b[0m\u001b[0;32m   1312\u001b[0m                                          \u001b[1;31m# no special security\u001b[0m\u001b[1;33m\u001b[0m\u001b[1;33m\u001b[0m\u001b[1;33m\u001b[0m\u001b[0m\n\u001b[0;32m   1313\u001b[0m                                          \u001b[1;32mNone\u001b[0m\u001b[1;33m,\u001b[0m \u001b[1;32mNone\u001b[0m\u001b[1;33m,\u001b[0m\u001b[1;33m\u001b[0m\u001b[1;33m\u001b[0m\u001b[0m\n",
      "\u001b[1;31mFileNotFoundError\u001b[0m: [WinError 2] Le fichier spécifié est introuvable"
     ]
    }
   ],
   "source": [
    "from pydub import AudioSegment\n",
    "\n",
    "audio_file= r\"C:\\Users\\Tuf F15\\Desktop\\test.wav\"\n",
    "audio = AudioSegment.from_wav(audio_file)\n",
    "list_of_timestamps = [ 10, 20, 30, 40, 50 ,60, 70, 80, 90 ] #and so on in *seconds*\n",
    "\n",
    "start = 0\n",
    "for  idx,t in enumerate(list_of_timestamps):\n",
    "    #break loop if at last element of list\n",
    "    if idx == len(list_of_timestamps):\n",
    "        break\n",
    "\n",
    "    end = t * 1000 #pydub works in millisec\n",
    "    print (\"split at [ {}:{}] ms\".format(start, end))\n",
    "    audio_chunk=audio[start:end]\n",
    "    audio_chunk.export( \"audio_chunk_{}.wav\".format(end), format=\"wav\")\n",
    "\n",
    "    start = end  #pydub works in millisec\n"
   ]
  },
  {
   "cell_type": "code",
   "execution_count": 17,
   "metadata": {},
   "outputs": [
    {
     "name": "stdout",
     "output_type": "stream",
     "text": [
      "None\n"
     ]
    }
   ],
   "source": [
    "a = os.chdir(\"C:/Users/Tuf F15/Desktop\")\n",
    "print(a)"
   ]
  },
  {
   "cell_type": "markdown",
   "metadata": {},
   "source": [
    "### Data Visualization"
   ]
  },
  {
   "cell_type": "code",
   "execution_count": 9,
   "metadata": {},
   "outputs": [
    {
     "data": {
      "text/plain": [
       "[<matplotlib.lines.Line2D at 0x1d546d71a30>]"
      ]
     },
     "execution_count": 9,
     "metadata": {},
     "output_type": "execute_result"
    },
    {
     "data": {
      "image/png": "[encoded data removed]",
      "text/plain": [
       "<Figure size 1008x576 with 1 Axes>"
      ]
     },
     "metadata": {
      "needs_background": "light"
     },
     "output_type": "display_data"
    }
   ],
   "source": [
    "#sample_rate, samples = wavfile.read(audios_dir+'/yes/1a073312_nohash_0.wav')\n",
    "samples, sample_rate = librosa.load(audios_dir+'/yes/1a073312_nohash_0.wav')\n",
    "fig = plt.figure(figsize=(14, 8))\n",
    "ax1 = fig.add_subplot(211)\n",
    "ax1.set_title('Raw wave of ' + '../input/train/audio/yes/0a7c2a8d_nohash_0.wav')\n",
    "ax1.set_xlabel('time')\n",
    "ax1.set_ylabel('Amplitude')\n",
    "ax1.plot(np.linspace(0, sample_rate/len(samples), sample_rate), samples)"
   ]
  },
  {
   "cell_type": "code",
   "execution_count": 10,
   "metadata": {},
   "outputs": [
    {
     "name": "stderr",
     "output_type": "stream",
     "text": [
      "<ipython-input-10-f5eca4a0244f>:4: MatplotlibDeprecationWarning: shading='flat' when X and Y have the same dimensions as C is deprecated since 3.3.  Either specify the corners of the quadrilaterals with X and Y, or pass shading='auto', 'nearest' or 'gouraud', or set rcParams['pcolor.shading'].  This will become an error two minor releases later.\n",
      "  plt.pcolormesh(times, frequencies, spectrogram)\n"
     ]
    },
    {
     "data": {
      "image/png": "[encoded data removed]",
      "text/plain": [
       "<Figure size 2160x576 with 1 Axes>"
      ]
     },
     "metadata": {
      "needs_background": "light"
     },
     "output_type": "display_data"
    }
   ],
   "source": [
    "frequencies, times, spectrogram = signal.spectrogram(samples, sample_rate)\n",
    "\n",
    "plt.figure(figsize=(30,8))\n",
    "plt.pcolormesh(times, frequencies, spectrogram)\n",
    "plt.imshow(spectrogram)\n",
    "plt.ylabel('Frequency [Hz]')\n",
    "plt.xlabel('Time [sec]')\n",
    "plt.show()"
   ]
  },
  {
   "cell_type": "code",
   "execution_count": 11,
   "metadata": {},
   "outputs": [
    {
     "data": {
      "text/plain": [
       "array([[1.66308160e-14, 1.12821312e-13, 2.51992336e-14, ...,\n",
       "        4.29080979e-13, 7.33878629e-14, 1.90876736e-15],\n",
       "       [4.50412580e-12, 2.07763732e-12, 1.89808477e-12, ...,\n",
       "        1.36527638e-12, 2.50395277e-12, 1.95471053e-11],\n",
       "       [1.44310189e-11, 7.66849854e-13, 1.25780327e-14, ...,\n",
       "        7.47537123e-13, 5.50273640e-13, 1.44066304e-11],\n",
       "       ...,\n",
       "       [1.18620535e-22, 1.13544171e-22, 1.88425887e-21, ...,\n",
       "        1.05176639e-23, 6.43117629e-22, 1.63594669e-22],\n",
       "       [2.02346407e-22, 7.38036238e-23, 1.94833407e-21, ...,\n",
       "        3.01616329e-23, 2.68529439e-22, 8.79428953e-23],\n",
       "       [1.19581960e-22, 1.05169705e-22, 9.39565296e-22, ...,\n",
       "        2.27931324e-23, 4.25261125e-23, 1.10043438e-23]], dtype=float32)"
      ]
     },
     "execution_count": 11,
     "metadata": {},
     "output_type": "execute_result"
    }
   ],
   "source": [
    "spectrogram"
   ]
  },
  {
   "cell_type": "code",
   "execution_count": 12,
   "metadata": {},
   "outputs": [
    {
     "data": {
      "text/plain": [
       "12642"
      ]
     },
     "execution_count": 12,
     "metadata": {},
     "output_type": "execute_result"
    }
   ],
   "source": [
    "spectrogram.size"
   ]
  },
  {
   "cell_type": "code",
   "execution_count": 13,
   "metadata": {},
   "outputs": [
    {
     "data": {
      "text/plain": [
       "22050"
      ]
     },
     "execution_count": 13,
     "metadata": {},
     "output_type": "execute_result"
    }
   ],
   "source": [
    "sample_rate"
   ]
  },
  {
   "cell_type": "code",
   "execution_count": 14,
   "metadata": {},
   "outputs": [
    {
     "data": {
      "text/plain": [
       "22050"
      ]
     },
     "execution_count": 14,
     "metadata": {},
     "output_type": "execute_result"
    }
   ],
   "source": [
    "samples.size"
   ]
  },
  {
   "cell_type": "code",
   "execution_count": 15,
   "metadata": {},
   "outputs": [],
   "source": [
    "duration = float(len(samples)/sample_rate)"
   ]
  },
  {
   "cell_type": "code",
   "execution_count": 16,
   "metadata": {},
   "outputs": [
    {
     "data": {
      "text/plain": [
       "1.0"
      ]
     },
     "execution_count": 16,
     "metadata": {},
     "output_type": "execute_result"
    }
   ],
   "source": [
    "duration"
   ]
  },
  {
   "cell_type": "code",
   "execution_count": 17,
   "metadata": {},
   "outputs": [
    {
     "name": "stderr",
     "output_type": "stream",
     "text": [
      "<ipython-input-17-c2bd579d8179>:1: FutureWarning: Pass orig_sr=22050, target_sr=8000 as keyword args. From version 0.10 passing these as positional arguments will result in an error\n",
      "  samplesR = librosa.resample(samples, sample_rate, 8000)\n"
     ]
    }
   ],
   "source": [
    "samplesR = librosa.resample(samples, sample_rate, 8000)"
   ]
  },
  {
   "cell_type": "code",
   "execution_count": 18,
   "metadata": {},
   "outputs": [
    {
     "data": {
      "text/plain": [
       "[<matplotlib.lines.Line2D at 0x1d54666d340>]"
      ]
     },
     "execution_count": 18,
     "metadata": {},
     "output_type": "execute_result"
    },
    {
     "data": {
      "image/png": "[encoded data removed]",
      "text/plain": [
       "<Figure size 1008x576 with 1 Axes>"
      ]
     },
     "metadata": {
      "needs_background": "light"
     },
     "output_type": "display_data"
    }
   ],
   "source": [
    "fig = plt.figure(figsize=(14, 8))\n",
    "ax1 = fig.add_subplot(211)\n",
    "ax1.set_title('Raw wave of ' + '../input/train/audio/yes/0a7c2a8d_nohash_0.wav')\n",
    "ax1.set_xlabel('time')\n",
    "ax1.set_ylabel('Amplitude')\n",
    "ax1.plot(np.linspace(0, sample_rate/len(samplesR), 8000), samplesR)"
   ]
  },
  {
   "cell_type": "code",
   "execution_count": 19,
   "metadata": {},
   "outputs": [
    {
     "name": "stderr",
     "output_type": "stream",
     "text": [
      "<ipython-input-19-a2cd3ce95e2f>:4: MatplotlibDeprecationWarning: shading='flat' when X and Y have the same dimensions as C is deprecated since 3.3.  Either specify the corners of the quadrilaterals with X and Y, or pass shading='auto', 'nearest' or 'gouraud', or set rcParams['pcolor.shading'].  This will become an error two minor releases later.\n",
      "  plt.pcolormesh(times, frequencies, spectrogram)\n"
     ]
    },
    {
     "data": {
      "image/png": "[encoded data removed]",
      "text/plain": [
       "<Figure size 2160x576 with 1 Axes>"
      ]
     },
     "metadata": {
      "needs_background": "light"
     },
     "output_type": "display_data"
    }
   ],
   "source": [
    "frequencies, times, spectrogram = signal.spectrogram(samplesR, 8000)\n",
    "\n",
    "plt.figure(figsize=(30,8))\n",
    "plt.pcolormesh(times, frequencies, spectrogram)\n",
    "plt.imshow(spectrogram)\n",
    "plt.ylabel('Frequency [Hz]')\n",
    "plt.xlabel('Time [sec]')\n",
    "plt.show()"
   ]
  },
  {
   "cell_type": "code",
   "execution_count": 20,
   "metadata": {},
   "outputs": [
    {
     "data": {
      "text/plain": [
       "array([[1.00337815e-13, 6.85004220e-10, 2.05420703e-09, ...,\n",
       "        3.53570553e-13, 2.89694856e-14, 7.18805441e-14],\n",
       "       [4.31215746e-13, 1.39287040e-10, 3.44207468e-10, ...,\n",
       "        6.58754084e-13, 2.22166293e-13, 8.90016956e-14],\n",
       "       [2.69683527e-13, 3.31497108e-10, 3.09869241e-10, ...,\n",
       "        6.41479762e-13, 4.00131707e-12, 8.88826773e-14],\n",
       "       ...,\n",
       "       [3.88998475e-18, 1.25014241e-16, 6.84943325e-15, ...,\n",
       "        1.33643798e-18, 2.28861747e-18, 8.13094373e-20],\n",
       "       [9.83872919e-19, 3.80591458e-17, 9.24253341e-16, ...,\n",
       "        3.77285220e-19, 1.78932856e-18, 6.66155172e-19],\n",
       "       [1.31036434e-19, 9.35016758e-18, 7.84747322e-18, ...,\n",
       "        1.41212707e-19, 5.08081526e-19, 4.50000625e-19]], dtype=float32)"
      ]
     },
     "execution_count": 20,
     "metadata": {},
     "output_type": "execute_result"
    }
   ],
   "source": [
    "spectrogram"
   ]
  },
  {
   "cell_type": "code",
   "execution_count": 21,
   "metadata": {},
   "outputs": [
    {
     "data": {
      "text/plain": [
       "4515"
      ]
     },
     "execution_count": 21,
     "metadata": {},
     "output_type": "execute_result"
    }
   ],
   "source": [
    "spectrogram.size"
   ]
  },
  {
   "cell_type": "code",
   "execution_count": 22,
   "metadata": {},
   "outputs": [
    {
     "data": {
      "text/plain": [
       "array([-1.3187449e-05, -7.0529211e-05, -5.9855702e-05, ...,\n",
       "       -1.4686466e-05, -6.0283779e-05, -3.8364164e-05], dtype=float32)"
      ]
     },
     "execution_count": 22,
     "metadata": {},
     "output_type": "execute_result"
    }
   ],
   "source": [
    "samplesR"
   ]
  },
  {
   "cell_type": "code",
   "execution_count": 23,
   "metadata": {},
   "outputs": [
    {
     "data": {
      "text/plain": [
       "8000"
      ]
     },
     "execution_count": 23,
     "metadata": {},
     "output_type": "execute_result"
    }
   ],
   "source": [
    "samplesR.size"
   ]
  },
  {
   "cell_type": "code",
   "execution_count": 24,
   "metadata": {},
   "outputs": [],
   "source": [
    "durationR = float(len(samplesR)/8000)"
   ]
  },
  {
   "cell_type": "code",
   "execution_count": 25,
   "metadata": {},
   "outputs": [
    {
     "data": {
      "text/plain": [
       "1.0"
      ]
     },
     "execution_count": 25,
     "metadata": {},
     "output_type": "execute_result"
    }
   ],
   "source": [
    "durationR"
   ]
  },
  {
   "cell_type": "markdown",
   "metadata": {},
   "source": [
    "### Number of recordings"
   ]
  },
  {
   "cell_type": "code",
   "execution_count": 26,
   "metadata": {},
   "outputs": [
    {
     "data": {
      "image/png": "[encoded data removed]",
      "text/plain": [
       "<Figure size 1440x360 with 1 Axes>"
      ]
     },
     "metadata": {
      "needs_background": "light"
     },
     "output_type": "display_data"
    }
   ],
   "source": [
    "#find count of each label and plot bar graph\n",
    "labels = [\"yes\", \"no\", \"one\", \"two\"]\n",
    "no_of_recordings=[]\n",
    "for label in labels:\n",
    "    waves = [f for f in os.listdir(audios_dir + '/'+ label) if f.endswith('.wav')]\n",
    "    no_of_recordings.append(len(waves))\n",
    "    \n",
    "#plot\n",
    "plt.figure(figsize=(20,5))\n",
    "index = np.arange(len(labels))\n",
    "plt.bar(index, no_of_recordings)\n",
    "plt.xlabel('Commands', fontsize=12)\n",
    "plt.ylabel('No of recordings', fontsize=12)\n",
    "plt.xticks(index, labels, fontsize=15, rotation=60)\n",
    "plt.title('No. of recordings for each command')\n",
    "plt.show()"
   ]
  },
  {
   "cell_type": "markdown",
   "metadata": {},
   "source": [
    "### Duration of recordings"
   ]
  },
  {
   "cell_type": "code",
   "execution_count": 27,
   "metadata": {},
   "outputs": [
    {
     "data": {
      "text/plain": [
       "(array([4.000e+00, 1.200e+01, 3.800e+01, 4.200e+01, 5.300e+01, 1.260e+02,\n",
       "        1.020e+02, 1.940e+02, 2.380e+02, 8.686e+03]),\n",
       " array([0.4266875 , 0.48401875, 0.54135   , 0.59868125, 0.6560125 ,\n",
       "        0.71334375, 0.770675  , 0.82800625, 0.8853375 , 0.94266875,\n",
       "        1.        ]),\n",
       " <BarContainer object of 10 artists>)"
      ]
     },
     "execution_count": 27,
     "metadata": {},
     "output_type": "execute_result"
    },
    {
     "data": {
      "image/png": "[encoded data removed]",
      "text/plain": [
       "<Figure size 432x288 with 1 Axes>"
      ]
     },
     "metadata": {
      "needs_background": "light"
     },
     "output_type": "display_data"
    }
   ],
   "source": [
    "duration_of_recordings=[]\n",
    "labels = [\"yes\", \"no\", \"one\", \"two\"]\n",
    "for label in labels:\n",
    "    waves = [f for f in os.listdir(audios_dir + '/'+ label) if f.endswith('.wav')]\n",
    "    for wav in waves:\n",
    "        sample_rate, samples = wavfile.read(audios_dir + '/' + label + '/' + wav)\n",
    "        duration_of_recordings.append(float(len(samples)/sample_rate))\n",
    "    \n",
    "plt.hist(np.array(duration_of_recordings))"
   ]
  },
  {
   "cell_type": "markdown",
   "metadata": {},
   "source": [
    "### Resampling / Removing records below 1 second"
   ]
  },
  {
   "cell_type": "code",
   "execution_count": 28,
   "metadata": {},
   "outputs": [
    {
     "name": "stdout",
     "output_type": "stream",
     "text": [
      "yes\n"
     ]
    },
    {
     "name": "stderr",
     "output_type": "stream",
     "text": [
      "<ipython-input-28-d88953c142f3>:9: FutureWarning: Pass orig_sr=22050, target_sr=8000 as keyword args. From version 0.10 passing these as positional arguments will result in an error\n",
      "  samples = librosa.resample(samples, sample_rate, 8000)\n"
     ]
    },
    {
     "name": "stdout",
     "output_type": "stream",
     "text": [
      "no\n",
      "one\n",
      "two\n"
     ]
    }
   ],
   "source": [
    "\n",
    "labels = [\"yes\", \"no\", \"one\", \"two\"]\n",
    "all_wave = []\n",
    "all_label = []\n",
    "for label in labels:\n",
    "    print(label)\n",
    "    waves = [f for f in os.listdir(audios_dir + '/'+ label) if f.endswith('.wav')]\n",
    "    for wav in waves:\n",
    "        samples, sample_rate = librosa.load(audios_dir + '/' + label + '/' + wav)\n",
    "        samples = librosa.resample(samples, sample_rate, 8000)\n",
    "        if(len(samples)== 8000) : \n",
    "            all_wave.append(samples)\n",
    "            all_label.append(label)"
   ]
  },
  {
   "cell_type": "code",
   "execution_count": 29,
   "metadata": {},
   "outputs": [
    {
     "data": {
      "text/plain": [
       "8000"
      ]
     },
     "execution_count": 29,
     "metadata": {},
     "output_type": "execute_result"
    }
   ],
   "source": [
    "len(all_wave[8400])"
   ]
  },
  {
   "cell_type": "code",
   "execution_count": 30,
   "metadata": {},
   "outputs": [
    {
     "data": {
      "text/plain": [
       "(array([   0.,    0.,    0.,    0.,    0., 8498.,    0.,    0.,    0.,\n",
       "           0.]),\n",
       " array([0.5, 0.6, 0.7, 0.8, 0.9, 1. , 1.1, 1.2, 1.3, 1.4, 1.5]),\n",
       " <BarContainer object of 10 artists>)"
      ]
     },
     "execution_count": 30,
     "metadata": {},
     "output_type": "execute_result"
    },
    {
     "data": {
      "image/png": "[encoded data removed]",
      "text/plain": [
       "<Figure size 432x288 with 1 Axes>"
      ]
     },
     "metadata": {
      "needs_background": "light"
     },
     "output_type": "display_data"
    }
   ],
   "source": [
    "duration_of_recordings_resampled=[]\n",
    "for s in all_wave:\n",
    "    duration_of_recordings_resampled.append(float(len(s)/8000))\n",
    "\n",
    "plt.hist(np.array(duration_of_recordings_resampled))"
   ]
  },
  {
   "cell_type": "code",
   "execution_count": 31,
   "metadata": {},
   "outputs": [],
   "source": [
    "data = []\n",
    "labels = []\n",
    "\n",
    "for wave in all_wave:\n",
    "    # load the image, swap color channels, and resize it to be a fixed\n",
    "    # 224x224 pixels while ignoring aspect ratio\n",
    "    #file = audios[i]\n",
    "    \n",
    "    frequencies, times, spectrogram = signal.spectrogram(wave, 8000)\n",
    "\n",
    "    # convert the image data to NumPy arrays while scaling the pixel\n",
    "    # intensities to the range [0, 255]\n",
    "    #image = np.array(image)/255.0\n",
    "    \n",
    "    # update the data and labels lists, respectively\n",
    "    \n",
    "    data.append(spectrogram[:128,:48])\n",
    "        \n",
    "    #else:\n",
    "        #   print(spectrogram.shape)"
   ]
  },
  {
   "cell_type": "code",
   "execution_count": 32,
   "metadata": {},
   "outputs": [],
   "source": [
    "data = np.array(data)"
   ]
  },
  {
   "cell_type": "code",
   "execution_count": 33,
   "metadata": {},
   "outputs": [
    {
     "data": {
      "text/plain": [
       "(8498, 128, 35)"
      ]
     },
     "execution_count": 33,
     "metadata": {},
     "output_type": "execute_result"
    }
   ],
   "source": [
    "data.shape"
   ]
  },
  {
   "cell_type": "code",
   "execution_count": 34,
   "metadata": {},
   "outputs": [
    {
     "name": "stderr",
     "output_type": "stream",
     "text": [
      "<ipython-input-34-7b4685ae27ea>:2: MatplotlibDeprecationWarning: shading='flat' when X and Y have the same dimensions as C is deprecated since 3.3.  Either specify the corners of the quadrilaterals with X and Y, or pass shading='auto', 'nearest' or 'gouraud', or set rcParams['pcolor.shading'].  This will become an error two minor releases later.\n",
      "  plt.pcolormesh(times, frequencies, spectrogram)\n"
     ]
    },
    {
     "data": {
      "image/png": "[encoded data removed]",
      "text/plain": [
       "<Figure size 2160x576 with 1 Axes>"
      ]
     },
     "metadata": {
      "needs_background": "light"
     },
     "output_type": "display_data"
    }
   ],
   "source": [
    "plt.figure(figsize=(30,8))\n",
    "plt.pcolormesh(times, frequencies, spectrogram)\n",
    "plt.imshow(data[4])\n",
    "plt.ylabel('Frequency [Hz]')\n",
    "plt.xlabel('Time [sec]')\n",
    "plt.show()"
   ]
  },
  {
   "cell_type": "code",
   "execution_count": 35,
   "metadata": {},
   "outputs": [],
   "source": [
    "# convert the labels to NumPy arrays while scaling the pixel\n",
    "labels = np.array(all_label)"
   ]
  },
  {
   "cell_type": "code",
   "execution_count": 36,
   "metadata": {},
   "outputs": [],
   "source": [
    "# perform one-hot encoding on the labels - Convert the output labels to integer encoded:\n",
    "from sklearn.preprocessing import LabelEncoder\n",
    "le = LabelEncoder()\n",
    "ls = le.fit_transform(labels)"
   ]
  },
  {
   "cell_type": "code",
   "execution_count": 37,
   "metadata": {},
   "outputs": [
    {
     "data": {
      "text/plain": [
       "array([3, 3, 3, ..., 2, 2, 2], dtype=int64)"
      ]
     },
     "execution_count": 37,
     "metadata": {},
     "output_type": "execute_result"
    }
   ],
   "source": [
    "ls"
   ]
  },
  {
   "cell_type": "code",
   "execution_count": 38,
   "metadata": {},
   "outputs": [],
   "source": [
    "labels_categoricals = to_categorical(ls)"
   ]
  },
  {
   "cell_type": "code",
   "execution_count": 39,
   "metadata": {},
   "outputs": [
    {
     "data": {
      "text/plain": [
       "array([[0., 0., 0., 1.],\n",
       "       [0., 0., 0., 1.],\n",
       "       [0., 0., 0., 1.],\n",
       "       ...,\n",
       "       [0., 0., 1., 0.],\n",
       "       [0., 0., 1., 0.],\n",
       "       [0., 0., 1., 0.]], dtype=float32)"
      ]
     },
     "execution_count": 39,
     "metadata": {},
     "output_type": "execute_result"
    }
   ],
   "source": [
    "labels_categoricals"
   ]
  },
  {
   "cell_type": "code",
   "execution_count": 40,
   "metadata": {},
   "outputs": [
    {
     "data": {
      "text/plain": [
       "(8498, 4)"
      ]
     },
     "execution_count": 40,
     "metadata": {},
     "output_type": "execute_result"
    }
   ],
   "source": [
    "labels_categoricals.shape"
   ]
  },
  {
   "cell_type": "markdown",
   "metadata": {},
   "source": [
    "### Load Audio Data"
   ]
  },
  {
   "cell_type": "code",
   "execution_count": 41,
   "metadata": {},
   "outputs": [],
   "source": [
    "# partition the data into training,cross-validation and testing splits using 60%,20% and 20% of data\n",
    "(trainX, testX, trainY, testY) = train_test_split(data, labels_categoricals,test_size=0.20, stratify=labels_categoricals, random_state=42)\n",
    "(trainX, cvX, trainY, cvY) = train_test_split(trainX, trainY,test_size=0.25, stratify=trainY, random_state=42)"
   ]
  },
  {
   "cell_type": "code",
   "execution_count": 42,
   "metadata": {},
   "outputs": [
    {
     "name": "stdout",
     "output_type": "stream",
     "text": [
      "Train data size :  (5098, 128, 35)\n",
      "Cross-Validation data size :  (1700, 128, 35)\n",
      "Test data size :  (1700, 128, 35)\n"
     ]
    }
   ],
   "source": [
    "print(\"Train data size : \",trainX.shape)\n",
    "print(\"Cross-Validation data size : \",cvX.shape)\n",
    "print(\"Test data size : \",testX.shape)"
   ]
  },
  {
   "cell_type": "code",
   "execution_count": 43,
   "metadata": {},
   "outputs": [],
   "source": [
    "from keras import backend as K\n",
    "\n",
    "# input image dimensions\n",
    "img_rows, img_cols = 128, 35\n",
    "\n",
    "if K.image_data_format() == 'channels_first':\n",
    "    trainX = trainX.reshape(trainX.shape[0], 1, img_rows, img_cols)\n",
    "    testX = testX.reshape(testX.shape[0], 1, img_rows, img_cols)\n",
    "    cvX = cvX.reshape(cvX.shape[0], 1, img_rows, img_cols)\n",
    "    input_shape = (1, img_rows, img_cols)\n",
    "else:\n",
    "    trainX = trainX.reshape(trainX.shape[0],img_rows, img_cols,1)\n",
    "    testX = testX.reshape(testX.shape[0],img_rows, img_cols,1)\n",
    "    cvX = cvX.reshape(cvX.shape[0],img_rows, img_cols,1)\n",
    "    input_shape = (img_rows, img_cols,1)"
   ]
  },
  {
   "cell_type": "code",
   "execution_count": 44,
   "metadata": {},
   "outputs": [
    {
     "name": "stdout",
     "output_type": "stream",
     "text": [
      "Number of training examples : 5098 and each image is of shape : (5098, 128, 35, 1)\n",
      "Number of cross validation examples : 1700 and each image is of shape : (1700, 128, 35, 1)\n",
      "Number of testing examples : 1700 and each image is of shape : (1700, 128, 35, 1)\n"
     ]
    }
   ],
   "source": [
    "print(\"Number of training examples :\", trainX.shape[0], \"and each image is of shape :\",trainX.shape)\n",
    "print(\"Number of cross validation examples :\", cvX.shape[0], \"and each image is of shape :\",cvX.shape)\n",
    "print(\"Number of testing examples :\", testX.shape[0], \"and each image is of shape :\",testX.shape)"
   ]
  },
  {
   "cell_type": "code",
   "execution_count": 45,
   "metadata": {},
   "outputs": [],
   "source": [
    "import tensorflow as tf\n",
    "\n",
    "gpus = tf.config.experimental.list_physical_devices('GPU')\n",
    "if gpus:\n",
    "  for gpu in gpus:\n",
    "    tf.config.experimental.set_memory_growth(gpu, True)\n",
    "else:\n",
    "  print(\"No GPU device found\")\n",
    "\n",
    "physical_devices = tf.config.list_physical_devices(\"GPU\")\n",
    "tf.config.experimental.set_memory_growth(physical_devices[0], True)"
   ]
  },
  {
   "cell_type": "code",
   "execution_count": 80,
   "metadata": {},
   "outputs": [],
   "source": [
    "#initialize the initial learning rate, number of epochs to train for and batch size\n",
    "INIT_LR = 1e-3\n",
    "EPOCHS = 27\n",
    "batch_size = 32\n",
    "num_class = 4\n",
    "#input_shape = (224,224,3) #(513, 800, 3)"
   ]
  },
  {
   "cell_type": "code",
   "execution_count": 81,
   "metadata": {},
   "outputs": [],
   "source": [
    "from keras.models import Sequential \n",
    "from keras.layers import Dense, Activation\n",
    "from keras.layers import Dropout,Flatten\n",
    "from tensorflow.keras.layers import (BatchNormalization)\n",
    "\n",
    "from keras.layers import Conv2D, MaxPooling2D"
   ]
  },
  {
   "cell_type": "code",
   "execution_count": 82,
   "metadata": {},
   "outputs": [
    {
     "name": "stdout",
     "output_type": "stream",
     "text": [
      "Model: \"sequential_5\"\n",
      "_________________________________________________________________\n",
      " Layer (type)                Output Shape              Param #   \n",
      "=================================================================\n",
      " conv2d_16 (Conv2D)          (None, 128, 35, 8)        40        \n",
      "                                                                 \n",
      " conv2d_17 (Conv2D)          (None, 128, 35, 16)       528       \n",
      "                                                                 \n",
      " max_pooling2d_8 (MaxPooling  (None, 64, 17, 16)       0         \n",
      " 2D)                                                             \n",
      "                                                                 \n",
      " batch_normalization_8 (Batc  (None, 64, 17, 16)       64        \n",
      " hNormalization)                                                 \n",
      "                                                                 \n",
      " dropout_12 (Dropout)        (None, 64, 17, 16)        0         \n",
      "                                                                 \n",
      " conv2d_18 (Conv2D)          (None, 64, 17, 32)        2080      \n",
      "                                                                 \n",
      " conv2d_19 (Conv2D)          (None, 64, 17, 64)        8256      \n",
      "                                                                 \n",
      " max_pooling2d_9 (MaxPooling  (None, 32, 8, 64)        0         \n",
      " 2D)                                                             \n",
      "                                                                 \n",
      " batch_normalization_9 (Batc  (None, 32, 8, 64)        256       \n",
      " hNormalization)                                                 \n",
      "                                                                 \n",
      " dropout_13 (Dropout)        (None, 32, 8, 64)         0         \n",
      "                                                                 \n",
      " flatten_4 (Flatten)         (None, 16384)             0         \n",
      "                                                                 \n",
      " dense_8 (Dense)             (None, 64)                1048640   \n",
      "                                                                 \n",
      " dropout_14 (Dropout)        (None, 64)                0         \n",
      "                                                                 \n",
      " dense_9 (Dense)             (None, 4)                 260       \n",
      "                                                                 \n",
      "=================================================================\n",
      "Total params: 1,060,124\n",
      "Trainable params: 1,059,964\n",
      "Non-trainable params: 160\n",
      "_________________________________________________________________\n"
     ]
    }
   ],
   "source": [
    "model = Sequential()\n",
    "model.add(Conv2D(8, kernel_size=(2, 2),padding='same',activation='relu',input_shape=input_shape))\n",
    "model.add(Conv2D(16, kernel_size=(2, 2),padding='same',activation='relu'))\n",
    "model.add(MaxPooling2D(pool_size=(2, 2)))\n",
    "model.add(BatchNormalization())\n",
    "model.add(Dropout(0.5))\n",
    "model.add(Conv2D(32, kernel_size=(2, 2),padding='same',activation='relu'))\n",
    "model.add(Conv2D(64, kernel_size=(2, 2),padding='same',activation='relu'))\n",
    "model.add(MaxPooling2D(pool_size=(2, 2)))\n",
    "model.add(BatchNormalization())\n",
    "model.add(Dropout(0.5))\n",
    "model.add(Flatten())\n",
    "model.add(Dense(64, activation='relu'))\n",
    "model.add(Dropout(0.5))\n",
    "model.add(Dense(num_class, activation='softmax'))\n",
    "\n",
    "model.summary()"
   ]
  },
  {
   "cell_type": "code",
   "execution_count": 83,
   "metadata": {},
   "outputs": [],
   "source": [
    "#from tensorflow.keras.optimizers import Adam\n",
    "#opt = Adam(lr=INIT_LR)\n",
    "model.compile(optimizer='adam', loss='categorical_crossentropy', metrics=['accuracy'])"
   ]
  },
  {
   "cell_type": "code",
   "execution_count": 84,
   "metadata": {},
   "outputs": [],
   "source": [
    "from keras.callbacks import EarlyStopping, ModelCheckpoint\n",
    "es = EarlyStopping(monitor='val_loss', mode='min', verbose=1, patience=25, min_delta=0.0001) \n",
    "mc = ModelCheckpoint('best_model.hdf5', monitor='val_acc', verbose=1, save_best_only=True, mode='max')"
   ]
  },
  {
   "cell_type": "code",
   "execution_count": 85,
   "metadata": {},
   "outputs": [
    {
     "name": "stdout",
     "output_type": "stream",
     "text": [
      "Epoch 1/27\n",
      "159/160 [============================>.] - ETA: 0s - loss: 1.3819 - accuracy: 0.2732WARNING:tensorflow:Can save best model only with val_acc available, skipping.\n",
      "160/160 [==============================] - 2s 12ms/step - loss: 1.3815 - accuracy: 0.2734 - val_loss: 1.4210 - val_accuracy: 0.2476\n",
      "Epoch 2/27\n",
      "155/160 [============================>.] - ETA: 0s - loss: 1.2836 - accuracy: 0.3776WARNING:tensorflow:Can save best model only with val_acc available, skipping.\n",
      "160/160 [==============================] - 2s 10ms/step - loss: 1.2808 - accuracy: 0.3801 - val_loss: 1.6745 - val_accuracy: 0.2476\n",
      "Epoch 3/27\n",
      "154/160 [===========================>..] - ETA: 0s - loss: 1.1509 - accuracy: 0.4892WARNING:tensorflow:Can save best model only with val_acc available, skipping.\n",
      "160/160 [==============================] - 2s 10ms/step - loss: 1.1474 - accuracy: 0.4902 - val_loss: 1.8166 - val_accuracy: 0.2547\n",
      "Epoch 4/27\n",
      "156/160 [============================>.] - ETA: 0s - loss: 0.9998 - accuracy: 0.5713WARNING:tensorflow:Can save best model only with val_acc available, skipping.\n",
      "160/160 [==============================] - 2s 10ms/step - loss: 0.9995 - accuracy: 0.5722 - val_loss: 1.6870 - val_accuracy: 0.2682\n",
      "Epoch 5/27\n",
      "158/160 [============================>.] - ETA: 0s - loss: 0.9155 - accuracy: 0.6149WARNING:tensorflow:Can save best model only with val_acc available, skipping.\n",
      "160/160 [==============================] - 2s 10ms/step - loss: 0.9165 - accuracy: 0.6138 - val_loss: 2.3188 - val_accuracy: 0.2924\n",
      "Epoch 6/27\n",
      "159/160 [============================>.] - ETA: 0s - loss: 0.8766 - accuracy: 0.6297WARNING:tensorflow:Can save best model only with val_acc available, skipping.\n",
      "160/160 [==============================] - 1s 9ms/step - loss: 0.8760 - accuracy: 0.6301 - val_loss: 3.3569 - val_accuracy: 0.2576\n",
      "Epoch 7/27\n",
      "154/160 [===========================>..] - ETA: 0s - loss: 0.8238 - accuracy: 0.6658WARNING:tensorflow:Can save best model only with val_acc available, skipping.\n",
      "160/160 [==============================] - 1s 9ms/step - loss: 0.8256 - accuracy: 0.6661 - val_loss: 1.4732 - val_accuracy: 0.3141\n",
      "Epoch 8/27\n",
      "159/160 [============================>.] - ETA: 0s - loss: 0.7793 - accuracy: 0.6885WARNING:tensorflow:Can save best model only with val_acc available, skipping.\n",
      "160/160 [==============================] - 1s 9ms/step - loss: 0.7815 - accuracy: 0.6881 - val_loss: 2.6649 - val_accuracy: 0.2588\n",
      "Epoch 9/27\n",
      "155/160 [============================>.] - ETA: 0s - loss: 0.7343 - accuracy: 0.7030WARNING:tensorflow:Can save best model only with val_acc available, skipping.\n",
      "160/160 [==============================] - 1s 9ms/step - loss: 0.7364 - accuracy: 0.7026 - val_loss: 3.4777 - val_accuracy: 0.2618\n",
      "Epoch 10/27\n",
      "158/160 [============================>.] - ETA: 0s - loss: 0.7256 - accuracy: 0.7061WARNING:tensorflow:Can save best model only with val_acc available, skipping.\n",
      "160/160 [==============================] - 1s 9ms/step - loss: 0.7251 - accuracy: 0.7064 - val_loss: 47.0444 - val_accuracy: 0.2959\n",
      "Epoch 11/27\n",
      "157/160 [============================>.] - ETA: 0s - loss: 0.7064 - accuracy: 0.7205WARNING:tensorflow:Can save best model only with val_acc available, skipping.\n",
      "160/160 [==============================] - 1s 9ms/step - loss: 0.7063 - accuracy: 0.7211 - val_loss: 24.2576 - val_accuracy: 0.2471\n",
      "Epoch 12/27\n",
      "154/160 [===========================>..] - ETA: 0s - loss: 0.6960 - accuracy: 0.7240WARNING:tensorflow:Can save best model only with val_acc available, skipping.\n",
      "160/160 [==============================] - 1s 9ms/step - loss: 0.6950 - accuracy: 0.7244 - val_loss: 4.4012 - val_accuracy: 0.2588\n",
      "Epoch 13/27\n",
      "159/160 [============================>.] - ETA: 0s - loss: 0.6705 - accuracy: 0.7317WARNING:tensorflow:Can save best model only with val_acc available, skipping.\n",
      "160/160 [==============================] - 1s 9ms/step - loss: 0.6704 - accuracy: 0.7317 - val_loss: 6.7272 - val_accuracy: 0.2576\n",
      "Epoch 14/27\n",
      "156/160 [============================>.] - ETA: 0s - loss: 0.6700 - accuracy: 0.7314WARNING:tensorflow:Can save best model only with val_acc available, skipping.\n",
      "160/160 [==============================] - 1s 9ms/step - loss: 0.6682 - accuracy: 0.7317 - val_loss: 7.6351 - val_accuracy: 0.2547\n",
      "Epoch 15/27\n",
      "155/160 [============================>.] - ETA: 0s - loss: 0.6319 - accuracy: 0.7468WARNING:tensorflow:Can save best model only with val_acc available, skipping.\n",
      "160/160 [==============================] - 1s 9ms/step - loss: 0.6314 - accuracy: 0.7468 - val_loss: 7.5440 - val_accuracy: 0.2588\n",
      "Epoch 16/27\n",
      "155/160 [============================>.] - ETA: 0s - loss: 0.6121 - accuracy: 0.7526WARNING:tensorflow:Can save best model only with val_acc available, skipping.\n",
      "160/160 [==============================] - 1s 9ms/step - loss: 0.6105 - accuracy: 0.7528 - val_loss: 2.4465 - val_accuracy: 0.3182\n",
      "Epoch 17/27\n",
      "160/160 [==============================] - ETA: 0s - loss: 0.5990 - accuracy: 0.7636WARNING:tensorflow:Can save best model only with val_acc available, skipping.\n",
      "160/160 [==============================] - 1s 9ms/step - loss: 0.5990 - accuracy: 0.7636 - val_loss: 2.4130 - val_accuracy: 0.3118\n",
      "Epoch 18/27\n",
      "155/160 [============================>.] - ETA: 0s - loss: 0.5932 - accuracy: 0.7669WARNING:tensorflow:Can save best model only with val_acc available, skipping.\n",
      "160/160 [==============================] - 1s 9ms/step - loss: 0.5911 - accuracy: 0.7674 - val_loss: 5.9229 - val_accuracy: 0.2853\n",
      "Epoch 19/27\n",
      "154/160 [===========================>..] - ETA: 0s - loss: 0.5984 - accuracy: 0.7581WARNING:tensorflow:Can save best model only with val_acc available, skipping.\n",
      "160/160 [==============================] - 1s 9ms/step - loss: 0.5929 - accuracy: 0.7595 - val_loss: 5.7165 - val_accuracy: 0.4218\n",
      "Epoch 20/27\n",
      "159/160 [============================>.] - ETA: 0s - loss: 0.5873 - accuracy: 0.7655WARNING:tensorflow:Can save best model only with val_acc available, skipping.\n",
      "160/160 [==============================] - 1s 9ms/step - loss: 0.5867 - accuracy: 0.7656 - val_loss: 21.2981 - val_accuracy: 0.3129\n",
      "Epoch 21/27\n",
      "158/160 [============================>.] - ETA: 0s - loss: 0.5820 - accuracy: 0.7706WARNING:tensorflow:Can save best model only with val_acc available, skipping.\n",
      "160/160 [==============================] - 1s 9ms/step - loss: 0.5809 - accuracy: 0.7707 - val_loss: 8.6287 - val_accuracy: 0.4047\n",
      "Epoch 22/27\n",
      "159/160 [============================>.] - ETA: 0s - loss: 0.5525 - accuracy: 0.7785WARNING:tensorflow:Can save best model only with val_acc available, skipping.\n",
      "160/160 [==============================] - 1s 9ms/step - loss: 0.5519 - accuracy: 0.7785 - val_loss: 10.4754 - val_accuracy: 0.4047\n",
      "Epoch 23/27\n",
      "154/160 [===========================>..] - ETA: 0s - loss: 0.5406 - accuracy: 0.7806WARNING:tensorflow:Can save best model only with val_acc available, skipping.\n",
      "160/160 [==============================] - 1s 9ms/step - loss: 0.5414 - accuracy: 0.7803 - val_loss: 0.7983 - val_accuracy: 0.6718\n",
      "Epoch 24/27\n",
      "155/160 [============================>.] - ETA: 0s - loss: 0.5609 - accuracy: 0.7857WARNING:tensorflow:Can save best model only with val_acc available, skipping.\n",
      "160/160 [==============================] - 1s 9ms/step - loss: 0.5551 - accuracy: 0.7880 - val_loss: 1.2668 - val_accuracy: 0.5559\n",
      "Epoch 25/27\n",
      "155/160 [============================>.] - ETA: 0s - loss: 0.5498 - accuracy: 0.7833WARNING:tensorflow:Can save best model only with val_acc available, skipping.\n",
      "160/160 [==============================] - 1s 9ms/step - loss: 0.5494 - accuracy: 0.7829 - val_loss: 30.7855 - val_accuracy: 0.2859\n",
      "Epoch 26/27\n",
      "159/160 [============================>.] - ETA: 0s - loss: 0.5330 - accuracy: 0.7840WARNING:tensorflow:Can save best model only with val_acc available, skipping.\n",
      "160/160 [==============================] - 1s 9ms/step - loss: 0.5330 - accuracy: 0.7842 - val_loss: 25.6428 - val_accuracy: 0.2788\n",
      "Epoch 27/27\n",
      "155/160 [============================>.] - ETA: 0s - loss: 0.5125 - accuracy: 0.7976WARNING:tensorflow:Can save best model only with val_acc available, skipping.\n",
      "160/160 [==============================] - 1s 9ms/step - loss: 0.5120 - accuracy: 0.7984 - val_loss: 3.9274 - val_accuracy: 0.5282\n"
     ]
    }
   ],
   "source": [
    "history = model.fit(trainX, trainY, batch_size=batch_size, epochs=EPOCHS, verbose=1, callbacks=[es,mc],validation_data=(cvX, cvY))"
   ]
  },
  {
   "cell_type": "code",
   "execution_count": 86,
   "metadata": {},
   "outputs": [
    {
     "data": {
      "text/plain": [
       "<matplotlib.legend.Legend at 0x1d5a3050af0>"
      ]
     },
     "execution_count": 86,
     "metadata": {},
     "output_type": "execute_result"
    },
    {
     "data": {
      "image/png": "[encoded data removed]",
      "text/plain": [
       "<Figure size 432x288 with 1 Axes>"
      ]
     },
     "metadata": {},
     "output_type": "display_data"
    }
   ],
   "source": [
    "# plot the training loss\n",
    "N = EPOCHS\n",
    "plt.style.use(\"ggplot\")\n",
    "plt.figure()\n",
    "plt.plot(np.arange(0, N), history.history[\"loss\"], label=\"train_loss\")\n",
    "plt.plot(np.arange(0, N), history.history[\"val_loss\"], label=\"val_loss\")\n",
    "#plt.plot(np.arange(0, N), history.history[\"accuracy\"], label=\"train_acc\")\n",
    "#plt.plot(np.arange(0, N), history.history[\"val_accuracy\"], label=\"val_acc\")\n",
    "plt.title(\"Train/CV Loss on Speech-To-Text Dataset\")\n",
    "plt.xlabel(\"Epoch #\")\n",
    "plt.ylabel(\"Loss\")\n",
    "plt.legend(loc=\"lower left\")"
   ]
  },
  {
   "cell_type": "code",
   "execution_count": 87,
   "metadata": {},
   "outputs": [
    {
     "data": {
      "text/plain": [
       "<matplotlib.legend.Legend at 0x1d5a30897f0>"
      ]
     },
     "execution_count": 87,
     "metadata": {},
     "output_type": "execute_result"
    },
    {
     "data": {
      "image/png": "[encoded data removed]",
      "text/plain": [
       "<Figure size 432x288 with 1 Axes>"
      ]
     },
     "metadata": {},
     "output_type": "display_data"
    }
   ],
   "source": [
    "# plot the training accuracy\n",
    "N = EPOCHS\n",
    "#plt.style.use(\"ggplot\")\n",
    "plt.figure()\n",
    "#plt.plot(np.arange(0, N), history.history[\"loss\"], label=\"train_loss\")\n",
    "#plt.plot(np.arange(0, N), history.history[\"val_loss\"], label=\"val_loss\")\n",
    "plt.plot(np.arange(0, N), history.history[\"accuracy\"], label=\"train_acc\")\n",
    "plt.plot(np.arange(0, N), history.history[\"val_accuracy\"], label=\"val_acc\")\n",
    "plt.title(\"Train and CV Accuracy on Speech-To-Text Dataset\")\n",
    "plt.xlabel(\"Epoch #\")\n",
    "plt.ylabel(\"Accuracy\")\n",
    "plt.legend(loc=\"lower left\")"
   ]
  },
  {
   "cell_type": "code",
   "execution_count": 88,
   "metadata": {},
   "outputs": [],
   "source": [
    "best_acc = max(history.history[\"val_accuracy\"])"
   ]
  },
  {
   "cell_type": "code",
   "execution_count": 89,
   "metadata": {},
   "outputs": [
    {
     "data": {
      "text/plain": [
       "67.17647314071655"
      ]
     },
     "execution_count": 89,
     "metadata": {},
     "output_type": "execute_result"
    }
   ],
   "source": [
    "best_acc*100"
   ]
  },
  {
   "cell_type": "code",
   "execution_count": 90,
   "metadata": {},
   "outputs": [
    {
     "name": "stdout",
     "output_type": "stream",
     "text": [
      "54/54 [==============================] - 0s 2ms/step\n"
     ]
    }
   ],
   "source": [
    "# make predictions on the testing set\n",
    "predIdxs = model.predict(testX, batch_size=batch_size)"
   ]
  },
  {
   "cell_type": "code",
   "execution_count": 91,
   "metadata": {},
   "outputs": [
    {
     "data": {
      "text/plain": [
       "array([[1.60612001e-06, 8.45647417e-04, 9.98898029e-01, 2.54652929e-04],\n",
       "       [3.57030081e-06, 2.07490521e-03, 9.97181416e-01, 7.40132935e-04],\n",
       "       [3.40518542e-02, 8.65553319e-01, 7.97748534e-09, 1.00394815e-01],\n",
       "       ...,\n",
       "       [5.06323542e-12, 2.88134794e-12, 9.99962449e-01, 3.75028794e-05],\n",
       "       [2.15043556e-08, 9.99999881e-01, 3.64812514e-09, 8.02756830e-08],\n",
       "       [2.48725746e-06, 2.32715439e-03, 9.97666597e-01, 3.79718199e-06]],\n",
       "      dtype=float32)"
      ]
     },
     "execution_count": 91,
     "metadata": {},
     "output_type": "execute_result"
    }
   ],
   "source": [
    "predIdxs"
   ]
  },
  {
   "cell_type": "code",
   "execution_count": 92,
   "metadata": {},
   "outputs": [
    {
     "data": {
      "text/plain": [
       "(1700, 128, 35, 1)"
      ]
     },
     "execution_count": 92,
     "metadata": {},
     "output_type": "execute_result"
    }
   ],
   "source": [
    "testX.shape"
   ]
  },
  {
   "cell_type": "code",
   "execution_count": 93,
   "metadata": {},
   "outputs": [],
   "source": [
    "# for each image in the testing set we need to find the index of the\n",
    "# label with corresponding largest predicted probability\n",
    "predIdxs = np.argmax(predIdxs, axis=1)"
   ]
  },
  {
   "cell_type": "code",
   "execution_count": 94,
   "metadata": {},
   "outputs": [
    {
     "data": {
      "text/plain": [
       "array([2, 2, 1, ..., 2, 1, 2], dtype=int64)"
      ]
     },
     "execution_count": 94,
     "metadata": {},
     "output_type": "execute_result"
    }
   ],
   "source": [
    "predIdxs"
   ]
  }
 ],
 "metadata": {
  "kernelspec": {
   "display_name": "Python 3.8.8 ('base')",
   "language": "python",
   "name": "python3"
  },
  "language_info": {
   "codemirror_mode": {
    "name": "ipython",
    "version": 3
   },
   "file_extension": ".py",
   "mimetype": "text/x-python",
   "name": "python",
   "nbconvert_exporter": "python",
   "pygments_lexer": "ipython3",
   "version": "3.8.8"
  },
  "orig_nbformat": 4,
  "vscode": {
   "interpreter": {
    "hash": "81f6155dc99dcb51114bf7b4fbaa987eb10d2451af0ab3786bebbe1c85cc4899"
   }
  }
 },
 "nbformat": 4,
 "nbformat_minor": 2
}
