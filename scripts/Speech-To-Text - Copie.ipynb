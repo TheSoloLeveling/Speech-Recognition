{
 "cells": [
  {
   "cell_type": "markdown",
   "metadata": {},
   "source": [
    " #                                         Speech-To-Text"
   ]
  },
  {
   "cell_type": "code",
   "execution_count": 5,
   "metadata": {},
   "outputs": [],
   "source": [
    "from tensorflow.keras.utils import to_categorical\n",
    "from sklearn.preprocessing import OneHotEncoder\n",
    "from sklearn.model_selection import train_test_split\n",
    "from imutils import paths\n",
    "import pandas as pd\n",
    "import seaborn as sns\n",
    "import matplotlib.pyplot as plt\n",
    "import numpy as np\n",
    "import cv2\n",
    "import os\n",
    "from tqdm import tqdm\n",
    "from scipy import signal\n",
    "from scipy.io import wavfile\n",
    "import matplotlib.pyplot as plt\n",
    "\n",
    "%matplotlib inline"
   ]
  },
  {
   "cell_type": "markdown",
   "metadata": {},
   "source": [
    "### Spectrogram"
   ]
  },
  {
   "cell_type": "markdown",
   "metadata": {},
   "source": [
    "#### In below blog they tried with sample of wave file \n",
    "        https://www.analyticsvidhya.com/blog/2019/07/learn-build-first-speech-to-text-model-python/"
   ]
  },
  {
   "cell_type": "markdown",
   "metadata": {},
   "source": [
    "#### Lets try with other feature like spectrogram\n",
    "        Data : https://www.kaggle.com/c/tensorflow-speech-recognition-challenge"
   ]
  },
  {
   "cell_type": "code",
   "execution_count": 6,
   "metadata": {},
   "outputs": [],
   "source": [
    "audios_dir = r'C:\\Users\\Tuf F15\\Desktop\\DATASET\\train\\audio'"
   ]
  },
  {
   "cell_type": "code",
   "execution_count": 7,
   "metadata": {},
   "outputs": [],
   "source": [
    "words=[\"yes\", \"no\", \"up\", \"down\", \"left\", \"right\", \"on\", \"off\", \"stop\", \"go\"]"
   ]
  },
  {
   "cell_type": "code",
   "execution_count": 8,
   "metadata": {},
   "outputs": [
    {
     "name": "stderr",
     "output_type": "stream",
     "text": [
      "<ipython-input-8-65a2609ef5c5>:5: MatplotlibDeprecationWarning: shading='flat' when X and Y have the same dimensions as C is deprecated since 3.3.  Either specify the corners of the quadrilaterals with X and Y, or pass shading='auto', 'nearest' or 'gouraud', or set rcParams['pcolor.shading'].  This will become an error two minor releases later.\n",
      "  plt.pcolormesh(times, frequencies, spectrogram)\n"
     ]
    },
    {
     "data": {
      "image/png": "[encoded data removed]",
      "text/plain": [
       "<Figure size 2160x576 with 1 Axes>"
      ]
     },
     "metadata": {
      "needs_background": "light"
     },
     "output_type": "display_data"
    }
   ],
   "source": [
    "sample_rate, samples = wavfile.read(r'C:\\Users\\Tuf F15\\Desktop\\DATASET\\train\\audio/yes/00f0204f_nohash_1.wav')\n",
    "frequencies, times, spectrogram = signal.spectrogram(samples, sample_rate)\n",
    "\n",
    "plt.figure(figsize=(30,8))\n",
    "plt.pcolormesh(times, frequencies, spectrogram)\n",
    "plt.imshow(spectrogram)\n",
    "plt.ylabel('Frequency [Hz]')\n",
    "plt.xlabel('Time [sec]')\n",
    "plt.show()"
   ]
  },
  {
   "cell_type": "code",
   "execution_count": 9,
   "metadata": {},
   "outputs": [
    {
     "data": {
      "text/plain": [
       "array([[2.6156293e-02, 2.2892055e-01, 3.6966115e-02, ..., 1.8147479e-01,\n",
       "        5.3385958e-02, 3.5170719e-02],\n",
       "       [1.7347100e-01, 1.7421755e+00, 5.0767148e-01, ..., 8.8913023e-01,\n",
       "        9.8591708e-02, 1.7330437e+00],\n",
       "       [1.0945344e+01, 1.0747066e+01, 1.0305539e+01, ..., 6.8501520e+00,\n",
       "        2.5501971e+00, 4.5086515e-01],\n",
       "       ...,\n",
       "       [1.5865684e-05, 3.1484353e-05, 2.7274358e-05, ..., 7.0329854e-08,\n",
       "        7.8394805e-05, 3.5176196e-05],\n",
       "       [5.3697636e-06, 6.5488912e-06, 6.6068346e-06, ..., 3.7657367e-06,\n",
       "        2.0339318e-07, 1.5106043e-05],\n",
       "       [8.8035231e-06, 8.2444130e-06, 1.4490608e-05, ..., 4.8090528e-06,\n",
       "        8.5944828e-07, 2.0338655e-06]], dtype=float32)"
      ]
     },
     "execution_count": 9,
     "metadata": {},
     "output_type": "execute_result"
    }
   ],
   "source": [
    "spectrogram"
   ]
  },
  {
   "cell_type": "markdown",
   "metadata": {},
   "source": [
    "### Load Audio Data"
   ]
  },
  {
   "cell_type": "code",
   "execution_count": 10,
   "metadata": {},
   "outputs": [
    {
     "name": "stdout",
     "output_type": "stream",
     "text": [
      "down\n",
      "go\n",
      "left\n"
     ]
    }
   ],
   "source": [
    "data = []\n",
    "labels = []\n",
    "dirs = os.listdir(audios_dir)\n",
    "for d in dirs:\n",
    "    if d in words:\n",
    "        print(d)\n",
    "        files = os.listdir(os.path.join(audios_dir,d))\n",
    "        audios = [f for f in files if f.endswith('.wav')]\n",
    "        for file in audios:\n",
    "            # load the image, swap color channels, and resize it to be a fixed\n",
    "            # 224x224 pixels while ignoring aspect ratio\n",
    "            #file = audios[i]\n",
    "            sample_rate, samples = wavfile.read(os.path.join(audios_dir,d,file))\n",
    "            frequencies, times, spectrogram = signal.spectrogram(samples, sample_rate)\n",
    "\n",
    "            # convert the image data to NumPy arrays while scaling the pixel\n",
    "            # intensities to the range [0, 255]\n",
    "            #image = np.array(image)/255.0\n",
    "            \n",
    "            # update the data and labels lists, respectively\n",
    "            if spectrogram.shape[0] >= 128 and spectrogram.shape[1] >=48:\n",
    "                data.append(spectrogram[:128,:48])\n",
    "                labels.append(d)\n",
    "            #else:\n",
    "             #   print(spectrogram.shape)\n"
   ]
  },
  {
   "cell_type": "code",
   "execution_count": null,
   "metadata": {},
   "outputs": [],
   "source": [
    "data = np.array(data)"
   ]
  },
  {
   "cell_type": "code",
   "execution_count": null,
   "metadata": {},
   "outputs": [
    {
     "data": {
      "text/plain": [
       "(23455, 128, 48)"
      ]
     },
     "execution_count": 11,
     "metadata": {},
     "output_type": "execute_result"
    }
   ],
   "source": [
    "data.shape"
   ]
  },
  {
   "cell_type": "markdown",
   "metadata": {},
   "source": [
    "### Class distribution"
   ]
  },
  {
   "cell_type": "code",
   "execution_count": null,
   "metadata": {},
   "outputs": [],
   "source": [
    "values,count = np.unique(labels,return_counts=True)"
   ]
  },
  {
   "cell_type": "code",
   "execution_count": null,
   "metadata": {},
   "outputs": [
    {
     "data": {
      "image/png": "[encoded data removed]",
      "text/plain": [
       "<Figure size 720x360 with 1 Axes>"
      ]
     },
     "metadata": {
      "needs_background": "light"
     },
     "output_type": "display_data"
    }
   ],
   "source": [
    "import matplotlib.pyplot as plt\n",
    "#plot\n",
    "plt.figure(figsize=(10,5))\n",
    "index = np.arange(len(words))\n",
    "plt.bar(index, count)\n",
    "plt.xlabel('Commands', fontsize=12)\n",
    "plt.ylabel('No of samples', fontsize=12)\n",
    "plt.xticks(index, words, fontsize=15, rotation=60)\n",
    "plt.title('No. of samples for each command')\n",
    "plt.show()"
   ]
  },
  {
   "cell_type": "code",
   "execution_count": null,
   "metadata": {},
   "outputs": [
    {
     "data": {
      "text/plain": [
       "23455"
      ]
     },
     "execution_count": 14,
     "metadata": {},
     "output_type": "execute_result"
    }
   ],
   "source": [
    "len(labels)"
   ]
  },
  {
   "cell_type": "code",
   "execution_count": null,
   "metadata": {},
   "outputs": [],
   "source": [
    "labels_backup = labels"
   ]
  },
  {
   "cell_type": "code",
   "execution_count": null,
   "metadata": {},
   "outputs": [],
   "source": [
    "# convert the labels to NumPy arrays while scaling the pixel\n",
    "labels = np.array(labels)"
   ]
  },
  {
   "cell_type": "code",
   "execution_count": null,
   "metadata": {},
   "outputs": [],
   "source": [
    "# perform one-hot encoding on the labels\n",
    "from sklearn.preprocessing import LabelEncoder\n",
    "le = LabelEncoder()\n",
    "ls = le.fit_transform(labels)"
   ]
  },
  {
   "cell_type": "code",
   "execution_count": null,
   "metadata": {},
   "outputs": [],
   "source": [
    "labels_categoricals = to_categorical(ls)"
   ]
  },
  {
   "cell_type": "code",
   "execution_count": null,
   "metadata": {},
   "outputs": [
    {
     "data": {
      "text/plain": [
       "array([[1., 0., 0., ..., 0., 0., 0.],\n",
       "       [1., 0., 0., ..., 0., 0., 0.],\n",
       "       [1., 0., 0., ..., 0., 0., 0.],\n",
       "       ...,\n",
       "       [0., 0., 0., ..., 0., 0., 1.],\n",
       "       [0., 0., 0., ..., 0., 0., 1.],\n",
       "       [0., 0., 0., ..., 0., 0., 1.]], dtype=float32)"
      ]
     },
     "execution_count": 19,
     "metadata": {},
     "output_type": "execute_result"
    }
   ],
   "source": [
    "labels_categoricals"
   ]
  },
  {
   "cell_type": "code",
   "execution_count": null,
   "metadata": {},
   "outputs": [
    {
     "data": {
      "text/plain": [
       "(23455, 10)"
      ]
     },
     "execution_count": 20,
     "metadata": {},
     "output_type": "execute_result"
    }
   ],
   "source": [
    "labels_categoricals.shape"
   ]
  },
  {
   "cell_type": "markdown",
   "metadata": {},
   "source": [
    "### Data splitting - Train,CV and Test "
   ]
  },
  {
   "cell_type": "code",
   "execution_count": null,
   "metadata": {},
   "outputs": [],
   "source": [
    "# partition the data into training,cross-validation and testing splits using 60%,20% and 20% of data\n",
    "(trainX, testX, trainY, testY) = train_test_split(data, labels_categoricals,test_size=0.20, stratify=labels_categoricals, random_state=42)\n",
    "(trainX, cvX, trainY, cvY) = train_test_split(trainX, trainY,test_size=0.25, stratify=trainY, random_state=42)"
   ]
  },
  {
   "cell_type": "code",
   "execution_count": null,
   "metadata": {},
   "outputs": [
    {
     "name": "stdout",
     "output_type": "stream",
     "text": [
      "Train data size :  (14073, 128, 48)\n",
      "Cross-Validation data size :  (4691, 128, 48)\n",
      "Test data size :  (4691, 128, 48)\n"
     ]
    }
   ],
   "source": [
    "print(\"Train data size : \",trainX.shape)\n",
    "print(\"Cross-Validation data size : \",cvX.shape)\n",
    "print(\"Test data size : \",testX.shape)"
   ]
  },
  {
   "cell_type": "code",
   "execution_count": null,
   "metadata": {},
   "outputs": [],
   "source": [
    "del data\n",
    "del labels_categoricals"
   ]
  },
  {
   "cell_type": "code",
   "execution_count": null,
   "metadata": {},
   "outputs": [],
   "source": [
    "from keras import backend as K\n",
    "\n",
    "# input image dimensions\n",
    "img_rows, img_cols = 128, 48\n",
    "\n",
    "if K.image_data_format() == 'channels_first':\n",
    "    trainX = trainX.reshape(trainX.shape[0], 1, img_rows, img_cols)\n",
    "    testX = testX.reshape(testX.shape[0], 1, img_rows, img_cols)\n",
    "    cvX = cvX.reshape(cvX.shape[0], 1, img_rows, img_cols)\n",
    "    input_shape = (1, img_rows, img_cols)\n",
    "else:\n",
    "    trainX = trainX.reshape(trainX.shape[0],img_rows, img_cols,1)\n",
    "    testX = testX.reshape(testX.shape[0],img_rows, img_cols,1)\n",
    "    cvX = cvX.reshape(cvX.shape[0],img_rows, img_cols,1)\n",
    "    input_shape = (img_rows, img_cols,1)"
   ]
  },
  {
   "cell_type": "code",
   "execution_count": null,
   "metadata": {},
   "outputs": [
    {
     "name": "stdout",
     "output_type": "stream",
     "text": [
      "Number of training examples : 14073 and each image is of shape : (14073, 128, 48, 1)\n",
      "Number of cross validation examples : 4691 and each image is of shape : (4691, 128, 48, 1)\n",
      "Number of testing examples : 4691 and each image is of shape : (4691, 128, 48, 1)\n"
     ]
    }
   ],
   "source": [
    "print(\"Number of training examples :\", trainX.shape[0], \"and each image is of shape :\",trainX.shape)\n",
    "print(\"Number of cross validation examples :\", cvX.shape[0], \"and each image is of shape :\",cvX.shape)\n",
    "print(\"Number of testing examples :\", testX.shape[0], \"and each image is of shape :\",testX.shape)"
   ]
  },
  {
   "cell_type": "markdown",
   "metadata": {},
   "source": [
    "### VGG16 Model"
   ]
  },
  {
   "cell_type": "code",
   "execution_count": null,
   "metadata": {},
   "outputs": [
    {
     "name": "stdout",
     "output_type": "stream",
     "text": [
      "Requirement already satisfied: nvidia-ml-py3 in c:\\users\\tuf f15\\anaconda3\\lib\\site-packages (7.352.0)\n"
     ]
    }
   ],
   "source": [
    "!pip install nvidia-ml-py3 "
   ]
  },
  {
   "cell_type": "code",
   "execution_count": null,
   "metadata": {},
   "outputs": [],
   "source": [
    "import tensorflow as tf"
   ]
  },
  {
   "cell_type": "code",
   "execution_count": null,
   "metadata": {},
   "outputs": [],
   "source": [
    "\n",
    "gpus = tf.config.experimental.list_physical_devices('GPU')\n",
    "if gpus:\n",
    "  for gpu in gpus:\n",
    "    tf.config.experimental.set_memory_growth(gpu, True)\n",
    "else:\n",
    "  print(\"No GPU device found\")"
   ]
  },
  {
   "cell_type": "code",
   "execution_count": null,
   "metadata": {},
   "outputs": [],
   "source": [
    "physical_devices = tf.config.list_physical_devices(\"GPU\")\n",
    "tf.config.experimental.set_memory_growth(physical_devices[0], True)"
   ]
  },
  {
   "cell_type": "code",
   "execution_count": null,
   "metadata": {},
   "outputs": [],
   "source": [
    "\n",
    "#initialize the initial learning rate, number of epochs to train for and batch size\n",
    "INIT_LR = 1e-3\n",
    "EPOCHS = 150\n",
    "batch_size = 32\n",
    "num_class = 10\n",
    "#input_shape = (224,224,3) #(513, 800, 3)"
   ]
  },
  {
   "cell_type": "code",
   "execution_count": null,
   "metadata": {},
   "outputs": [],
   "source": [
    "from keras.models import Sequential \n",
    "from keras.layers import Dense, Activation\n",
    "from keras.layers import Dropout,Flatten\n",
    "from tensorflow.keras.layers import (BatchNormalization)\n",
    "\n",
    "from keras.layers import Conv2D, MaxPooling2D"
   ]
  },
  {
   "cell_type": "code",
   "execution_count": null,
   "metadata": {},
   "outputs": [
    {
     "name": "stdout",
     "output_type": "stream",
     "text": [
      "Model: \"sequential_1\"\n",
      "_________________________________________________________________\n",
      " Layer (type)                Output Shape              Param #   \n",
      "=================================================================\n",
      " conv2d_6 (Conv2D)           (None, 128, 48, 8)        40        \n",
      "                                                                 \n",
      " conv2d_7 (Conv2D)           (None, 128, 48, 16)       528       \n",
      "                                                                 \n",
      " max_pooling2d_3 (MaxPooling  (None, 64, 24, 16)       0         \n",
      " 2D)                                                             \n",
      "                                                                 \n",
      " batch_normalization_3 (Batc  (None, 64, 24, 16)       64        \n",
      " hNormalization)                                                 \n",
      "                                                                 \n",
      " dropout_4 (Dropout)         (None, 64, 24, 16)        0         \n",
      "                                                                 \n",
      " conv2d_8 (Conv2D)           (None, 64, 24, 32)        2080      \n",
      "                                                                 \n",
      " conv2d_9 (Conv2D)           (None, 64, 24, 64)        8256      \n",
      "                                                                 \n",
      " max_pooling2d_4 (MaxPooling  (None, 32, 12, 64)       0         \n",
      " 2D)                                                             \n",
      "                                                                 \n",
      " batch_normalization_4 (Batc  (None, 32, 12, 64)       256       \n",
      " hNormalization)                                                 \n",
      "                                                                 \n",
      " dropout_5 (Dropout)         (None, 32, 12, 64)        0         \n",
      "                                                                 \n",
      " conv2d_10 (Conv2D)          (None, 32, 12, 128)       32896     \n",
      "                                                                 \n",
      " conv2d_11 (Conv2D)          (None, 32, 12, 256)       131328    \n",
      "                                                                 \n",
      " max_pooling2d_5 (MaxPooling  (None, 16, 6, 256)       0         \n",
      " 2D)                                                             \n",
      "                                                                 \n",
      " batch_normalization_5 (Batc  (None, 16, 6, 256)       1024      \n",
      " hNormalization)                                                 \n",
      "                                                                 \n",
      " dropout_6 (Dropout)         (None, 16, 6, 256)        0         \n",
      "                                                                 \n",
      " flatten_1 (Flatten)         (None, 24576)             0         \n",
      "                                                                 \n",
      " dense_2 (Dense)             (None, 256)               6291712   \n",
      "                                                                 \n",
      " dropout_7 (Dropout)         (None, 256)               0         \n",
      "                                                                 \n",
      " dense_3 (Dense)             (None, 10)                2570      \n",
      "                                                                 \n",
      "=================================================================\n",
      "Total params: 6,470,754\n",
      "Trainable params: 6,470,082\n",
      "Non-trainable params: 672\n",
      "_________________________________________________________________\n"
     ]
    }
   ],
   "source": [
    "model = Sequential()\n",
    "model.add(Conv2D(8, kernel_size=(2, 2),padding='same',activation='relu',input_shape=input_shape))\n",
    "model.add(Conv2D(16, kernel_size=(2, 2),padding='same',activation='relu'))\n",
    "model.add(MaxPooling2D(pool_size=(2, 2)))\n",
    "model.add(BatchNormalization())\n",
    "model.add(Dropout(0.5))\n",
    "model.add(Conv2D(32, kernel_size=(2, 2),padding='same',activation='relu'))\n",
    "model.add(Conv2D(64, kernel_size=(2, 2),padding='same',activation='relu'))\n",
    "model.add(MaxPooling2D(pool_size=(2, 2)))\n",
    "model.add(BatchNormalization())\n",
    "model.add(Dropout(0.5))\n",
    "model.add(Conv2D(128, kernel_size=(2, 2),padding='same',activation='relu'))\n",
    "model.add(Conv2D(256, kernel_size=(2, 2),padding='same',activation='relu'))\n",
    "model.add(MaxPooling2D(pool_size=(2, 2)))\n",
    "model.add(BatchNormalization())\n",
    "model.add(Dropout(0.5))\n",
    "model.add(Flatten())\n",
    "model.add(Dense(256, activation='relu'))\n",
    "model.add(Dropout(0.5))\n",
    "model.add(Dense(num_class, activation='softmax'))\n",
    "\n",
    "model.summary()"
   ]
  },
  {
   "cell_type": "code",
   "execution_count": null,
   "metadata": {},
   "outputs": [],
   "source": [
    "#from tensorflow.keras.optimizers import Adam\n",
    "#opt = Adam(lr=INIT_LR)\n",
    "model.compile(optimizer='adam', loss='categorical_crossentropy', metrics=['accuracy'])"
   ]
  },
  {
   "cell_type": "code",
   "execution_count": null,
   "metadata": {},
   "outputs": [],
   "source": [
    "from keras.callbacks import EarlyStopping, ModelCheckpoint\n",
    "es = EarlyStopping(monitor='val_loss', mode='min', verbose=1, patience=25, min_delta=0.0001) \n",
    "mc = ModelCheckpoint('best_model.hdf5', monitor='val_acc', verbose=1, save_best_only=True, mode='max')"
   ]
  },
  {
   "cell_type": "code",
   "execution_count": null,
   "metadata": {},
   "outputs": [
    {
     "name": "stdout",
     "output_type": "stream",
     "text": [
      "Fri Jul  8 13:07:16 2022       \n",
      "+-----------------------------------------------------------------------------+\n",
      "| NVIDIA-SMI 516.59       Driver Version: 516.59       CUDA Version: 11.7     |\n",
      "|-------------------------------+----------------------+----------------------+\n",
      "| GPU  Name            TCC/WDDM | Bus-Id        Disp.A | Volatile Uncorr. ECC |\n",
      "| Fan  Temp  Perf  Pwr:Usage/Cap|         Memory-Usage | GPU-Util  Compute M. |\n",
      "|                               |                      |               MIG M. |\n",
      "|===============================+======================+======================|\n",
      "|   0  NVIDIA GeForce ... WDDM  | 00000000:01:00.0 Off |                  N/A |\n",
      "| N/A   54C    P8    11W /  N/A |   4701MiB /  6144MiB |      0%      Default |\n",
      "|                               |                      |                  N/A |\n",
      "+-------------------------------+----------------------+----------------------+\n",
      "                                                                               \n",
      "+-----------------------------------------------------------------------------+\n",
      "| Processes:                                                                  |\n",
      "|  GPU   GI   CI        PID   Type   Process name                  GPU Memory |\n",
      "|        ID   ID                                                   Usage      |\n",
      "|=============================================================================|\n",
      "|    0   N/A  N/A      2164      C   ... F15\\anaconda3\\python.exe    N/A      |\n",
      "+-----------------------------------------------------------------------------+\n"
     ]
    }
   ],
   "source": [
    "!nvidia-smi"
   ]
  },
  {
   "cell_type": "code",
   "execution_count": null,
   "metadata": {},
   "outputs": [
    {
     "name": "stdout",
     "output_type": "stream",
     "text": [
      "Epoch 1/150\n",
      "440/440 [==============================] - ETA: 0s - loss: 2.6687 - accuracy: 0.1070WARNING:tensorflow:Can save best model only with val_acc available, skipping.\n",
      "440/440 [==============================] - 12s 27ms/step - loss: 2.6687 - accuracy: 0.1070 - val_loss: 2.3210 - val_accuracy: 0.1053\n",
      "Epoch 2/150\n",
      "439/440 [============================>.] - ETA: 0s - loss: 2.3106 - accuracy: 0.1066WARNING:tensorflow:Can save best model only with val_acc available, skipping.\n",
      "440/440 [==============================] - 10s 23ms/step - loss: 2.3106 - accuracy: 0.1064 - val_loss: 2.3008 - val_accuracy: 0.1123\n",
      "Epoch 3/150\n",
      "439/440 [============================>.] - ETA: 0s - loss: 2.3011 - accuracy: 0.1076WARNING:tensorflow:Can save best model only with val_acc available, skipping.\n",
      "440/440 [==============================] - 10s 23ms/step - loss: 2.3011 - accuracy: 0.1074 - val_loss: 2.6309 - val_accuracy: 0.1045\n",
      "Epoch 4/150\n",
      "440/440 [==============================] - ETA: 0s - loss: 2.2870 - accuracy: 0.1115WARNING:tensorflow:Can save best model only with val_acc available, skipping.\n",
      "440/440 [==============================] - 10s 23ms/step - loss: 2.2870 - accuracy: 0.1115 - val_loss: 2.5686 - val_accuracy: 0.1081\n",
      "Epoch 5/150\n",
      "438/440 [============================>.] - ETA: 0s - loss: 2.2677 - accuracy: 0.1229WARNING:tensorflow:Can save best model only with val_acc available, skipping.\n",
      "440/440 [==============================] - 10s 24ms/step - loss: 2.2678 - accuracy: 0.1229 - val_loss: 3.8156 - val_accuracy: 0.1010\n",
      "Epoch 6/150\n",
      "439/440 [============================>.] - ETA: 0s - loss: 2.2411 - accuracy: 0.1430WARNING:tensorflow:Can save best model only with val_acc available, skipping.\n",
      "440/440 [==============================] - 11s 25ms/step - loss: 2.2410 - accuracy: 0.1431 - val_loss: 2.9439 - val_accuracy: 0.1198\n",
      "Epoch 7/150\n",
      "438/440 [============================>.] - ETA: 0s - loss: 2.2109 - accuracy: 0.1454WARNING:tensorflow:Can save best model only with val_acc available, skipping.\n",
      "440/440 [==============================] - 11s 26ms/step - loss: 2.2110 - accuracy: 0.1455 - val_loss: 2.7109 - val_accuracy: 0.1264\n",
      "Epoch 8/150\n",
      "439/440 [============================>.] - ETA: 0s - loss: 2.1709 - accuracy: 0.1562WARNING:tensorflow:Can save best model only with val_acc available, skipping.\n",
      "440/440 [==============================] - 11s 26ms/step - loss: 2.1710 - accuracy: 0.1562 - val_loss: 4.4078 - val_accuracy: 0.1384\n",
      "Epoch 9/150\n",
      "439/440 [============================>.] - ETA: 0s - loss: 2.1211 - accuracy: 0.1735WARNING:tensorflow:Can save best model only with val_acc available, skipping.\n",
      "440/440 [==============================] - 11s 26ms/step - loss: 2.1211 - accuracy: 0.1737 - val_loss: 2.4230 - val_accuracy: 0.1882\n",
      "Epoch 10/150\n",
      "440/440 [==============================] - ETA: 0s - loss: 2.0896 - accuracy: 0.1845WARNING:tensorflow:Can save best model only with val_acc available, skipping.\n",
      "440/440 [==============================] - 11s 26ms/step - loss: 2.0896 - accuracy: 0.1845 - val_loss: 2.1082 - val_accuracy: 0.2326\n",
      "Epoch 11/150\n",
      "440/440 [==============================] - ETA: 0s - loss: 2.0579 - accuracy: 0.1958WARNING:tensorflow:Can save best model only with val_acc available, skipping.\n",
      "440/440 [==============================] - 11s 26ms/step - loss: 2.0579 - accuracy: 0.1958 - val_loss: 2.9128 - val_accuracy: 0.1253\n",
      "Epoch 12/150\n",
      "440/440 [==============================] - ETA: 0s - loss: 2.0327 - accuracy: 0.2097WARNING:tensorflow:Can save best model only with val_acc available, skipping.\n",
      "440/440 [==============================] - 11s 26ms/step - loss: 2.0327 - accuracy: 0.2097 - val_loss: 2.5604 - val_accuracy: 0.1735\n",
      "Epoch 13/150\n",
      "438/440 [============================>.] - ETA: 0s - loss: 1.9842 - accuracy: 0.2307WARNING:tensorflow:Can save best model only with val_acc available, skipping.\n",
      "440/440 [==============================] - 11s 26ms/step - loss: 1.9850 - accuracy: 0.2309 - val_loss: 2.5455 - val_accuracy: 0.1778\n",
      "Epoch 14/150\n",
      "439/440 [============================>.] - ETA: 0s - loss: 1.9415 - accuracy: 0.2489WARNING:tensorflow:Can save best model only with val_acc available, skipping.\n",
      "440/440 [==============================] - 11s 26ms/step - loss: 1.9415 - accuracy: 0.2490 - val_loss: 2.7775 - val_accuracy: 0.1149\n",
      "Epoch 15/150\n",
      "439/440 [============================>.] - ETA: 0s - loss: 1.9143 - accuracy: 0.2575WARNING:tensorflow:Can save best model only with val_acc available, skipping.\n",
      "440/440 [==============================] - 11s 26ms/step - loss: 1.9141 - accuracy: 0.2579 - val_loss: 2.3052 - val_accuracy: 0.1852\n",
      "Epoch 16/150\n",
      "439/440 [============================>.] - ETA: 0s - loss: 1.9024 - accuracy: 0.2726WARNING:tensorflow:Can save best model only with val_acc available, skipping.\n",
      "440/440 [==============================] - 12s 26ms/step - loss: 1.9028 - accuracy: 0.2721 - val_loss: 2.1099 - val_accuracy: 0.1742\n",
      "Epoch 17/150\n",
      "438/440 [============================>.] - ETA: 0s - loss: 1.8555 - accuracy: 0.2864WARNING:tensorflow:Can save best model only with val_acc available, skipping.\n",
      "440/440 [==============================] - 11s 26ms/step - loss: 1.8552 - accuracy: 0.2866 - val_loss: 2.2240 - val_accuracy: 0.1494\n",
      "Epoch 18/150\n",
      "440/440 [==============================] - ETA: 0s - loss: 1.8424 - accuracy: 0.2931WARNING:tensorflow:Can save best model only with val_acc available, skipping.\n",
      "440/440 [==============================] - 12s 26ms/step - loss: 1.8424 - accuracy: 0.2931 - val_loss: 1.8406 - val_accuracy: 0.2880\n",
      "Epoch 19/150\n",
      "439/440 [============================>.] - ETA: 0s - loss: 1.8167 - accuracy: 0.3080WARNING:tensorflow:Can save best model only with val_acc available, skipping.\n",
      "440/440 [==============================] - 11s 26ms/step - loss: 1.8167 - accuracy: 0.3080 - val_loss: 2.5031 - val_accuracy: 0.1277\n",
      "Epoch 20/150\n",
      "440/440 [==============================] - ETA: 0s - loss: 1.7822 - accuracy: 0.3212WARNING:tensorflow:Can save best model only with val_acc available, skipping.\n",
      "440/440 [==============================] - 11s 26ms/step - loss: 1.7822 - accuracy: 0.3212 - val_loss: 2.3574 - val_accuracy: 0.1456\n",
      "Epoch 21/150\n",
      "440/440 [==============================] - ETA: 0s - loss: 1.7520 - accuracy: 0.3340WARNING:tensorflow:Can save best model only with val_acc available, skipping.\n",
      "440/440 [==============================] - 11s 26ms/step - loss: 1.7520 - accuracy: 0.3340 - val_loss: 2.1182 - val_accuracy: 0.2294\n",
      "Epoch 22/150\n",
      "440/440 [==============================] - ETA: 0s - loss: 1.7148 - accuracy: 0.3480WARNING:tensorflow:Can save best model only with val_acc available, skipping.\n",
      "440/440 [==============================] - 11s 26ms/step - loss: 1.7148 - accuracy: 0.3480 - val_loss: 1.9350 - val_accuracy: 0.2882\n",
      "Epoch 23/150\n",
      "438/440 [============================>.] - ETA: 0s - loss: 1.6732 - accuracy: 0.3509WARNING:tensorflow:Can save best model only with val_acc available, skipping.\n",
      "440/440 [==============================] - 11s 26ms/step - loss: 1.6733 - accuracy: 0.3507 - val_loss: 2.4579 - val_accuracy: 0.1392\n",
      "Epoch 24/150\n",
      "439/440 [============================>.] - ETA: 0s - loss: 1.6353 - accuracy: 0.3716WARNING:tensorflow:Can save best model only with val_acc available, skipping.\n",
      "440/440 [==============================] - 12s 27ms/step - loss: 1.6352 - accuracy: 0.3716 - val_loss: 2.3323 - val_accuracy: 0.1490\n",
      "Epoch 25/150\n",
      "439/440 [============================>.] - ETA: 0s - loss: 1.5865 - accuracy: 0.3955WARNING:tensorflow:Can save best model only with val_acc available, skipping.\n",
      "440/440 [==============================] - 12s 26ms/step - loss: 1.5860 - accuracy: 0.3957 - val_loss: 2.0487 - val_accuracy: 0.2756\n",
      "Epoch 26/150\n",
      "439/440 [============================>.] - ETA: 0s - loss: 1.5523 - accuracy: 0.4003WARNING:tensorflow:Can save best model only with val_acc available, skipping.\n",
      "440/440 [==============================] - 11s 26ms/step - loss: 1.5525 - accuracy: 0.4000 - val_loss: 2.3331 - val_accuracy: 0.2334\n",
      "Epoch 27/150\n",
      "440/440 [==============================] - ETA: 0s - loss: 1.5054 - accuracy: 0.4226WARNING:tensorflow:Can save best model only with val_acc available, skipping.\n",
      "440/440 [==============================] - 11s 26ms/step - loss: 1.5054 - accuracy: 0.4226 - val_loss: 1.9874 - val_accuracy: 0.2991\n",
      "Epoch 28/150\n",
      "438/440 [============================>.] - ETA: 0s - loss: 1.4394 - accuracy: 0.4553WARNING:tensorflow:Can save best model only with val_acc available, skipping.\n",
      "440/440 [==============================] - 11s 26ms/step - loss: 1.4395 - accuracy: 0.4552 - val_loss: 2.2714 - val_accuracy: 0.2935\n",
      "Epoch 29/150\n",
      "440/440 [==============================] - ETA: 0s - loss: 1.4282 - accuracy: 0.4602WARNING:tensorflow:Can save best model only with val_acc available, skipping.\n",
      "440/440 [==============================] - 11s 26ms/step - loss: 1.4282 - accuracy: 0.4602 - val_loss: 2.2000 - val_accuracy: 0.3588\n",
      "Epoch 30/150\n",
      "438/440 [============================>.] - ETA: 0s - loss: 1.3870 - accuracy: 0.4726WARNING:tensorflow:Can save best model only with val_acc available, skipping.\n",
      "440/440 [==============================] - 11s 26ms/step - loss: 1.3861 - accuracy: 0.4727 - val_loss: 2.3315 - val_accuracy: 0.2940\n",
      "Epoch 31/150\n",
      "438/440 [============================>.] - ETA: 0s - loss: 1.3216 - accuracy: 0.4924WARNING:tensorflow:Can save best model only with val_acc available, skipping.\n",
      "440/440 [==============================] - 11s 26ms/step - loss: 1.3219 - accuracy: 0.4926 - val_loss: 3.0064 - val_accuracy: 0.2424\n",
      "Epoch 32/150\n",
      "440/440 [==============================] - ETA: 0s - loss: 1.3009 - accuracy: 0.5074WARNING:tensorflow:Can save best model only with val_acc available, skipping.\n",
      "440/440 [==============================] - 11s 25ms/step - loss: 1.3009 - accuracy: 0.5074 - val_loss: 1.9626 - val_accuracy: 0.3477\n",
      "Epoch 33/150\n",
      "438/440 [============================>.] - ETA: 0s - loss: 1.2435 - accuracy: 0.5295WARNING:tensorflow:Can save best model only with val_acc available, skipping.\n",
      "440/440 [==============================] - 11s 26ms/step - loss: 1.2443 - accuracy: 0.5292 - val_loss: 1.6463 - val_accuracy: 0.4249\n",
      "Epoch 34/150\n",
      "438/440 [============================>.] - ETA: 0s - loss: 1.2083 - accuracy: 0.5443WARNING:tensorflow:Can save best model only with val_acc available, skipping.\n",
      "440/440 [==============================] - 11s 26ms/step - loss: 1.2078 - accuracy: 0.5446 - val_loss: 2.0027 - val_accuracy: 0.3500\n",
      "Epoch 35/150\n",
      "439/440 [============================>.] - ETA: 0s - loss: 1.1746 - accuracy: 0.5624WARNING:tensorflow:Can save best model only with val_acc available, skipping.\n",
      "440/440 [==============================] - 11s 26ms/step - loss: 1.1764 - accuracy: 0.5620 - val_loss: 1.9311 - val_accuracy: 0.3108\n",
      "Epoch 36/150\n",
      "438/440 [============================>.] - ETA: 0s - loss: 1.1335 - accuracy: 0.5786WARNING:tensorflow:Can save best model only with val_acc available, skipping.\n",
      "440/440 [==============================] - 11s 26ms/step - loss: 1.1330 - accuracy: 0.5786 - val_loss: 2.1365 - val_accuracy: 0.3522\n",
      "Epoch 37/150\n",
      "440/440 [==============================] - ETA: 0s - loss: 1.1027 - accuracy: 0.5913WARNING:tensorflow:Can save best model only with val_acc available, skipping.\n",
      "440/440 [==============================] - 11s 26ms/step - loss: 1.1027 - accuracy: 0.5913 - val_loss: 1.8228 - val_accuracy: 0.3596\n",
      "Epoch 38/150\n",
      "438/440 [============================>.] - ETA: 0s - loss: 1.0771 - accuracy: 0.6066WARNING:tensorflow:Can save best model only with val_acc available, skipping.\n",
      "440/440 [==============================] - 11s 26ms/step - loss: 1.0758 - accuracy: 0.6070 - val_loss: 2.5249 - val_accuracy: 0.2667\n",
      "Epoch 39/150\n",
      "438/440 [============================>.] - ETA: 0s - loss: 1.0465 - accuracy: 0.6120WARNING:tensorflow:Can save best model only with val_acc available, skipping.\n",
      "440/440 [==============================] - 11s 26ms/step - loss: 1.0458 - accuracy: 0.6122 - val_loss: 1.9469 - val_accuracy: 0.3626\n",
      "Epoch 40/150\n",
      "438/440 [============================>.] - ETA: 0s - loss: 1.0346 - accuracy: 0.6205WARNING:tensorflow:Can save best model only with val_acc available, skipping.\n",
      "440/440 [==============================] - 11s 26ms/step - loss: 1.0344 - accuracy: 0.6205 - val_loss: 1.8627 - val_accuracy: 0.3551\n",
      "Epoch 41/150\n",
      "438/440 [============================>.] - ETA: 0s - loss: 1.0181 - accuracy: 0.6269WARNING:tensorflow:Can save best model only with val_acc available, skipping.\n",
      "440/440 [==============================] - 11s 26ms/step - loss: 1.0182 - accuracy: 0.6269 - val_loss: 1.7423 - val_accuracy: 0.3677\n",
      "Epoch 42/150\n",
      "440/440 [==============================] - ETA: 0s - loss: 0.9886 - accuracy: 0.6395WARNING:tensorflow:Can save best model only with val_acc available, skipping.\n",
      "440/440 [==============================] - 11s 26ms/step - loss: 0.9886 - accuracy: 0.6395 - val_loss: 2.0110 - val_accuracy: 0.3596\n",
      "Epoch 43/150\n",
      "438/440 [============================>.] - ETA: 0s - loss: 0.9802 - accuracy: 0.6438WARNING:tensorflow:Can save best model only with val_acc available, skipping.\n",
      "440/440 [==============================] - 11s 26ms/step - loss: 0.9793 - accuracy: 0.6442 - val_loss: 1.8512 - val_accuracy: 0.3882\n",
      "Epoch 44/150\n",
      "439/440 [============================>.] - ETA: 0s - loss: 0.9265 - accuracy: 0.6647WARNING:tensorflow:Can save best model only with val_acc available, skipping.\n",
      "440/440 [==============================] - 11s 26ms/step - loss: 0.9266 - accuracy: 0.6647 - val_loss: 1.7354 - val_accuracy: 0.3971\n",
      "Epoch 45/150\n",
      "438/440 [============================>.] - ETA: 0s - loss: 0.9032 - accuracy: 0.6727WARNING:tensorflow:Can save best model only with val_acc available, skipping.\n",
      "440/440 [==============================] - 11s 26ms/step - loss: 0.9028 - accuracy: 0.6730 - val_loss: 1.7021 - val_accuracy: 0.4528\n",
      "Epoch 46/150\n",
      "440/440 [==============================] - ETA: 0s - loss: 0.9013 - accuracy: 0.6785WARNING:tensorflow:Can save best model only with val_acc available, skipping.\n",
      "440/440 [==============================] - 11s 26ms/step - loss: 0.9013 - accuracy: 0.6785 - val_loss: 1.8111 - val_accuracy: 0.4573\n",
      "Epoch 47/150\n",
      "439/440 [============================>.] - ETA: 0s - loss: 0.8719 - accuracy: 0.6850WARNING:tensorflow:Can save best model only with val_acc available, skipping.\n",
      "440/440 [==============================] - 11s 26ms/step - loss: 0.8717 - accuracy: 0.6851 - val_loss: 1.7560 - val_accuracy: 0.4125\n",
      "Epoch 48/150\n",
      "440/440 [==============================] - ETA: 0s - loss: 0.8656 - accuracy: 0.6908WARNING:tensorflow:Can save best model only with val_acc available, skipping.\n",
      "440/440 [==============================] - 11s 26ms/step - loss: 0.8656 - accuracy: 0.6908 - val_loss: 1.8574 - val_accuracy: 0.4033\n",
      "Epoch 49/150\n",
      "440/440 [==============================] - ETA: 0s - loss: 0.8285 - accuracy: 0.6999WARNING:tensorflow:Can save best model only with val_acc available, skipping.\n",
      "440/440 [==============================] - 11s 26ms/step - loss: 0.8285 - accuracy: 0.6999 - val_loss: 2.4884 - val_accuracy: 0.3430\n",
      "Epoch 50/150\n",
      "438/440 [============================>.] - ETA: 0s - loss: 0.8083 - accuracy: 0.7095WARNING:tensorflow:Can save best model only with val_acc available, skipping.\n",
      "440/440 [==============================] - 11s 26ms/step - loss: 0.8094 - accuracy: 0.7094 - val_loss: 1.6224 - val_accuracy: 0.4694\n",
      "Epoch 51/150\n",
      "440/440 [==============================] - ETA: 0s - loss: 0.7924 - accuracy: 0.7186WARNING:tensorflow:Can save best model only with val_acc available, skipping.\n",
      "440/440 [==============================] - 11s 26ms/step - loss: 0.7924 - accuracy: 0.7186 - val_loss: 1.8923 - val_accuracy: 0.4133\n",
      "Epoch 52/150\n",
      "439/440 [============================>.] - ETA: 0s - loss: 0.7715 - accuracy: 0.7270WARNING:tensorflow:Can save best model only with val_acc available, skipping.\n",
      "440/440 [==============================] - 11s 25ms/step - loss: 0.7710 - accuracy: 0.7271 - val_loss: 1.5499 - val_accuracy: 0.5268\n",
      "Epoch 53/150\n",
      "439/440 [============================>.] - ETA: 0s - loss: 0.7760 - accuracy: 0.7286WARNING:tensorflow:Can save best model only with val_acc available, skipping.\n",
      "440/440 [==============================] - 11s 26ms/step - loss: 0.7757 - accuracy: 0.7286 - val_loss: 1.4217 - val_accuracy: 0.5487\n",
      "Epoch 54/150\n",
      "438/440 [============================>.] - ETA: 0s - loss: 0.7522 - accuracy: 0.7324WARNING:tensorflow:Can save best model only with val_acc available, skipping.\n",
      "440/440 [==============================] - 11s 26ms/step - loss: 0.7513 - accuracy: 0.7328 - val_loss: 1.4051 - val_accuracy: 0.5206\n",
      "Epoch 55/150\n",
      "440/440 [==============================] - ETA: 0s - loss: 0.7075 - accuracy: 0.7494WARNING:tensorflow:Can save best model only with val_acc available, skipping.\n",
      "440/440 [==============================] - 11s 26ms/step - loss: 0.7075 - accuracy: 0.7494 - val_loss: 1.5021 - val_accuracy: 0.4971\n",
      "Epoch 56/150\n",
      "439/440 [============================>.] - ETA: 0s - loss: 0.7255 - accuracy: 0.7431WARNING:tensorflow:Can save best model only with val_acc available, skipping.\n",
      "440/440 [==============================] - 11s 26ms/step - loss: 0.7252 - accuracy: 0.7432 - val_loss: 1.2895 - val_accuracy: 0.5594\n",
      "Epoch 57/150\n",
      "438/440 [============================>.] - ETA: 0s - loss: 0.7055 - accuracy: 0.7544WARNING:tensorflow:Can save best model only with val_acc available, skipping.\n",
      "440/440 [==============================] - 11s 26ms/step - loss: 0.7061 - accuracy: 0.7545 - val_loss: 1.6033 - val_accuracy: 0.4758\n",
      "Epoch 58/150\n",
      "438/440 [============================>.] - ETA: 0s - loss: 0.6882 - accuracy: 0.7578WARNING:tensorflow:Can save best model only with val_acc available, skipping.\n",
      "440/440 [==============================] - 11s 25ms/step - loss: 0.6881 - accuracy: 0.7578 - val_loss: 1.1148 - val_accuracy: 0.6355\n",
      "Epoch 59/150\n",
      "440/440 [==============================] - ETA: 0s - loss: 0.6725 - accuracy: 0.7657WARNING:tensorflow:Can save best model only with val_acc available, skipping.\n",
      "440/440 [==============================] - 11s 26ms/step - loss: 0.6725 - accuracy: 0.7657 - val_loss: 1.1020 - val_accuracy: 0.6274\n",
      "Epoch 60/150\n",
      "438/440 [============================>.] - ETA: 0s - loss: 0.6621 - accuracy: 0.7671WARNING:tensorflow:Can save best model only with val_acc available, skipping.\n",
      "440/440 [==============================] - 11s 26ms/step - loss: 0.6624 - accuracy: 0.7671 - val_loss: 1.2095 - val_accuracy: 0.6152\n",
      "Epoch 61/150\n",
      "439/440 [============================>.] - ETA: 0s - loss: 0.6478 - accuracy: 0.7725WARNING:tensorflow:Can save best model only with val_acc available, skipping.\n",
      "440/440 [==============================] - 11s 26ms/step - loss: 0.6484 - accuracy: 0.7724 - val_loss: 1.0979 - val_accuracy: 0.6350\n",
      "Epoch 62/150\n",
      "439/440 [============================>.] - ETA: 0s - loss: 0.6249 - accuracy: 0.7818WARNING:tensorflow:Can save best model only with val_acc available, skipping.\n",
      "440/440 [==============================] - 11s 26ms/step - loss: 0.6247 - accuracy: 0.7819 - val_loss: 0.9361 - val_accuracy: 0.6947\n",
      "Epoch 63/150\n",
      "439/440 [============================>.] - ETA: 0s - loss: 0.6233 - accuracy: 0.7807WARNING:tensorflow:Can save best model only with val_acc available, skipping.\n",
      "440/440 [==============================] - 11s 26ms/step - loss: 0.6225 - accuracy: 0.7810 - val_loss: 1.0300 - val_accuracy: 0.6476\n",
      "Epoch 64/150\n",
      "440/440 [==============================] - ETA: 0s - loss: 0.6123 - accuracy: 0.7835WARNING:tensorflow:Can save best model only with val_acc available, skipping.\n",
      "440/440 [==============================] - 11s 26ms/step - loss: 0.6123 - accuracy: 0.7835 - val_loss: 0.7868 - val_accuracy: 0.7376\n",
      "Epoch 65/150\n",
      "440/440 [==============================] - ETA: 0s - loss: 0.6135 - accuracy: 0.7858WARNING:tensorflow:Can save best model only with val_acc available, skipping.\n",
      "440/440 [==============================] - 11s 26ms/step - loss: 0.6135 - accuracy: 0.7858 - val_loss: 1.1965 - val_accuracy: 0.6137\n",
      "Epoch 66/150\n",
      "439/440 [============================>.] - ETA: 0s - loss: 0.5813 - accuracy: 0.7988WARNING:tensorflow:Can save best model only with val_acc available, skipping.\n",
      "440/440 [==============================] - 11s 26ms/step - loss: 0.5810 - accuracy: 0.7988 - val_loss: 0.9369 - val_accuracy: 0.6915\n",
      "Epoch 67/150\n",
      "438/440 [============================>.] - ETA: 0s - loss: 0.5824 - accuracy: 0.7946WARNING:tensorflow:Can save best model only with val_acc available, skipping.\n",
      "440/440 [==============================] - 11s 26ms/step - loss: 0.5838 - accuracy: 0.7945 - val_loss: 1.3710 - val_accuracy: 0.5754\n",
      "Epoch 68/150\n",
      "439/440 [============================>.] - ETA: 0s - loss: 0.5702 - accuracy: 0.8036WARNING:tensorflow:Can save best model only with val_acc available, skipping.\n",
      "440/440 [==============================] - 11s 26ms/step - loss: 0.5710 - accuracy: 0.8036 - val_loss: 0.9601 - val_accuracy: 0.6888\n",
      "Epoch 69/150\n",
      "440/440 [==============================] - ETA: 0s - loss: 0.5599 - accuracy: 0.8039WARNING:tensorflow:Can save best model only with val_acc available, skipping.\n",
      "440/440 [==============================] - 11s 26ms/step - loss: 0.5599 - accuracy: 0.8039 - val_loss: 1.1134 - val_accuracy: 0.6336\n",
      "Epoch 70/150\n",
      "440/440 [==============================] - ETA: 0s - loss: 0.5428 - accuracy: 0.8098WARNING:tensorflow:Can save best model only with val_acc available, skipping.\n",
      "440/440 [==============================] - 11s 26ms/step - loss: 0.5428 - accuracy: 0.8098 - val_loss: 1.1754 - val_accuracy: 0.6406\n",
      "Epoch 71/150\n",
      "438/440 [============================>.] - ETA: 0s - loss: 0.5373 - accuracy: 0.8129WARNING:tensorflow:Can save best model only with val_acc available, skipping.\n",
      "440/440 [==============================] - 11s 26ms/step - loss: 0.5375 - accuracy: 0.8130 - val_loss: 1.0918 - val_accuracy: 0.6419\n",
      "Epoch 72/150\n",
      "438/440 [============================>.] - ETA: 0s - loss: 0.5263 - accuracy: 0.8184WARNING:tensorflow:Can save best model only with val_acc available, skipping.\n",
      "440/440 [==============================] - 11s 26ms/step - loss: 0.5254 - accuracy: 0.8187 - val_loss: 0.9463 - val_accuracy: 0.6977\n",
      "Epoch 73/150\n",
      "439/440 [============================>.] - ETA: 0s - loss: 0.5266 - accuracy: 0.8190WARNING:tensorflow:Can save best model only with val_acc available, skipping.\n",
      "440/440 [==============================] - 11s 26ms/step - loss: 0.5268 - accuracy: 0.8188 - val_loss: 0.7786 - val_accuracy: 0.7463\n",
      "Epoch 74/150\n",
      "438/440 [============================>.] - ETA: 0s - loss: 0.5193 - accuracy: 0.8190WARNING:tensorflow:Can save best model only with val_acc available, skipping.\n",
      "440/440 [==============================] - 11s 26ms/step - loss: 0.5191 - accuracy: 0.8189 - val_loss: 0.9761 - val_accuracy: 0.6981\n",
      "Epoch 75/150\n",
      "440/440 [==============================] - ETA: 0s - loss: 0.5010 - accuracy: 0.8271WARNING:tensorflow:Can save best model only with val_acc available, skipping.\n",
      "440/440 [==============================] - 11s 26ms/step - loss: 0.5010 - accuracy: 0.8271 - val_loss: 0.7931 - val_accuracy: 0.7355\n",
      "Epoch 76/150\n",
      "438/440 [============================>.] - ETA: 0s - loss: 0.5102 - accuracy: 0.8221WARNING:tensorflow:Can save best model only with val_acc available, skipping.\n",
      "440/440 [==============================] - 11s 26ms/step - loss: 0.5098 - accuracy: 0.8223 - val_loss: 0.7931 - val_accuracy: 0.7465\n",
      "Epoch 77/150\n",
      "439/440 [============================>.] - ETA: 0s - loss: 0.4829 - accuracy: 0.8325WARNING:tensorflow:Can save best model only with val_acc available, skipping.\n",
      "440/440 [==============================] - 11s 26ms/step - loss: 0.4830 - accuracy: 0.8324 - val_loss: 0.6859 - val_accuracy: 0.7730\n",
      "Epoch 78/150\n",
      "440/440 [==============================] - ETA: 0s - loss: 0.4964 - accuracy: 0.8288WARNING:tensorflow:Can save best model only with val_acc available, skipping.\n",
      "440/440 [==============================] - 11s 26ms/step - loss: 0.4964 - accuracy: 0.8288 - val_loss: 0.6883 - val_accuracy: 0.7725\n",
      "Epoch 79/150\n",
      "439/440 [============================>.] - ETA: 0s - loss: 0.4937 - accuracy: 0.8286WARNING:tensorflow:Can save best model only with val_acc available, skipping.\n",
      "440/440 [==============================] - 11s 26ms/step - loss: 0.4939 - accuracy: 0.8285 - val_loss: 0.8785 - val_accuracy: 0.7065\n",
      "Epoch 80/150\n",
      "439/440 [============================>.] - ETA: 0s - loss: 0.4862 - accuracy: 0.8312WARNING:tensorflow:Can save best model only with val_acc available, skipping.\n",
      "440/440 [==============================] - 11s 26ms/step - loss: 0.4860 - accuracy: 0.8313 - val_loss: 0.7838 - val_accuracy: 0.7382\n",
      "Epoch 81/150\n",
      "440/440 [==============================] - ETA: 0s - loss: 0.4826 - accuracy: 0.8329WARNING:tensorflow:Can save best model only with val_acc available, skipping.\n",
      "440/440 [==============================] - 11s 26ms/step - loss: 0.4826 - accuracy: 0.8329 - val_loss: 0.5403 - val_accuracy: 0.8310\n",
      "Epoch 82/150\n",
      "438/440 [============================>.] - ETA: 0s - loss: 0.4605 - accuracy: 0.8378WARNING:tensorflow:Can save best model only with val_acc available, skipping.\n",
      "440/440 [==============================] - 12s 26ms/step - loss: 0.4607 - accuracy: 0.8376 - val_loss: 0.6172 - val_accuracy: 0.7966\n",
      "Epoch 83/150\n",
      "438/440 [============================>.] - ETA: 0s - loss: 0.4484 - accuracy: 0.8445WARNING:tensorflow:Can save best model only with val_acc available, skipping.\n",
      "440/440 [==============================] - 12s 26ms/step - loss: 0.4475 - accuracy: 0.8449 - val_loss: 0.6495 - val_accuracy: 0.7821\n",
      "Epoch 84/150\n",
      "439/440 [============================>.] - ETA: 0s - loss: 0.4452 - accuracy: 0.8455WARNING:tensorflow:Can save best model only with val_acc available, skipping.\n",
      "440/440 [==============================] - 11s 26ms/step - loss: 0.4459 - accuracy: 0.8455 - val_loss: 0.7510 - val_accuracy: 0.7410\n",
      "Epoch 85/150\n",
      "440/440 [==============================] - ETA: 0s - loss: 0.4436 - accuracy: 0.8445WARNING:tensorflow:Can save best model only with val_acc available, skipping.\n",
      "440/440 [==============================] - 11s 26ms/step - loss: 0.4436 - accuracy: 0.8445 - val_loss: 0.9195 - val_accuracy: 0.6979\n",
      "Epoch 86/150\n",
      "439/440 [============================>.] - ETA: 0s - loss: 0.4322 - accuracy: 0.8523WARNING:tensorflow:Can save best model only with val_acc available, skipping.\n",
      "440/440 [==============================] - 12s 27ms/step - loss: 0.4318 - accuracy: 0.8524 - val_loss: 0.5155 - val_accuracy: 0.8316\n",
      "Epoch 87/150\n",
      "440/440 [==============================] - ETA: 0s - loss: 0.4535 - accuracy: 0.8432WARNING:tensorflow:Can save best model only with val_acc available, skipping.\n",
      "440/440 [==============================] - 13s 29ms/step - loss: 0.4535 - accuracy: 0.8432 - val_loss: 0.5828 - val_accuracy: 0.8037\n",
      "Epoch 88/150\n",
      "438/440 [============================>.] - ETA: 0s - loss: 0.4323 - accuracy: 0.8469WARNING:tensorflow:Can save best model only with val_acc available, skipping.\n",
      "440/440 [==============================] - 12s 28ms/step - loss: 0.4319 - accuracy: 0.8469 - val_loss: 0.6054 - val_accuracy: 0.8107\n",
      "Epoch 89/150\n",
      "439/440 [============================>.] - ETA: 0s - loss: 0.4250 - accuracy: 0.8525WARNING:tensorflow:Can save best model only with val_acc available, skipping.\n",
      "440/440 [==============================] - 11s 25ms/step - loss: 0.4245 - accuracy: 0.8527 - val_loss: 0.5157 - val_accuracy: 0.8344\n",
      "Epoch 90/150\n",
      "438/440 [============================>.] - ETA: 0s - loss: 0.4228 - accuracy: 0.8532WARNING:tensorflow:Can save best model only with val_acc available, skipping.\n",
      "440/440 [==============================] - 11s 26ms/step - loss: 0.4239 - accuracy: 0.8530 - val_loss: 0.7618 - val_accuracy: 0.7378\n",
      "Epoch 91/150\n",
      "440/440 [==============================] - ETA: 0s - loss: 0.4135 - accuracy: 0.8593WARNING:tensorflow:Can save best model only with val_acc available, skipping.\n",
      "440/440 [==============================] - 12s 27ms/step - loss: 0.4135 - accuracy: 0.8593 - val_loss: 0.5888 - val_accuracy: 0.8052\n",
      "Epoch 92/150\n",
      "438/440 [============================>.] - ETA: 0s - loss: 0.4091 - accuracy: 0.8588WARNING:tensorflow:Can save best model only with val_acc available, skipping.\n",
      "440/440 [==============================] - 12s 27ms/step - loss: 0.4088 - accuracy: 0.8589 - val_loss: 0.5118 - val_accuracy: 0.8412\n",
      "Epoch 93/150\n",
      "439/440 [============================>.] - ETA: 0s - loss: 0.3910 - accuracy: 0.8640WARNING:tensorflow:Can save best model only with val_acc available, skipping.\n",
      "440/440 [==============================] - 12s 27ms/step - loss: 0.3911 - accuracy: 0.8639 - val_loss: 0.6434 - val_accuracy: 0.7977\n",
      "Epoch 94/150\n",
      "438/440 [============================>.] - ETA: 0s - loss: 0.4251 - accuracy: 0.8510WARNING:tensorflow:Can save best model only with val_acc available, skipping.\n",
      "440/440 [==============================] - 12s 27ms/step - loss: 0.4256 - accuracy: 0.8509 - val_loss: 0.5925 - val_accuracy: 0.8250\n",
      "Epoch 95/150\n",
      "440/440 [==============================] - ETA: 0s - loss: 0.4038 - accuracy: 0.8574WARNING:tensorflow:Can save best model only with val_acc available, skipping.\n",
      "440/440 [==============================] - 11s 26ms/step - loss: 0.4038 - accuracy: 0.8574 - val_loss: 0.5742 - val_accuracy: 0.8199\n",
      "Epoch 96/150\n",
      "439/440 [============================>.] - ETA: 0s - loss: 0.4096 - accuracy: 0.8585WARNING:tensorflow:Can save best model only with val_acc available, skipping.\n",
      "440/440 [==============================] - 12s 26ms/step - loss: 0.4097 - accuracy: 0.8585 - val_loss: 0.5057 - val_accuracy: 0.8399\n",
      "Epoch 97/150\n",
      "440/440 [==============================] - ETA: 0s - loss: 0.3996 - accuracy: 0.8623WARNING:tensorflow:Can save best model only with val_acc available, skipping.\n",
      "440/440 [==============================] - 12s 26ms/step - loss: 0.3996 - accuracy: 0.8623 - val_loss: 0.5417 - val_accuracy: 0.8267\n",
      "Epoch 98/150\n",
      "439/440 [============================>.] - ETA: 0s - loss: 0.3872 - accuracy: 0.8640WARNING:tensorflow:Can save best model only with val_acc available, skipping.\n",
      "440/440 [==============================] - 11s 25ms/step - loss: 0.3878 - accuracy: 0.8639 - val_loss: 0.4577 - val_accuracy: 0.8493\n",
      "Epoch 99/150\n",
      "440/440 [==============================] - ETA: 0s - loss: 0.3920 - accuracy: 0.8673WARNING:tensorflow:Can save best model only with val_acc available, skipping.\n",
      "440/440 [==============================] - 12s 26ms/step - loss: 0.3920 - accuracy: 0.8673 - val_loss: 0.7146 - val_accuracy: 0.7606\n",
      "Epoch 100/150\n",
      "438/440 [============================>.] - ETA: 0s - loss: 0.3789 - accuracy: 0.8709WARNING:tensorflow:Can save best model only with val_acc available, skipping.\n",
      "440/440 [==============================] - 12s 27ms/step - loss: 0.3793 - accuracy: 0.8709 - val_loss: 0.5384 - val_accuracy: 0.8263\n",
      "Epoch 101/150\n",
      "439/440 [============================>.] - ETA: 0s - loss: 0.3769 - accuracy: 0.8689WARNING:tensorflow:Can save best model only with val_acc available, skipping.\n",
      "440/440 [==============================] - 12s 27ms/step - loss: 0.3774 - accuracy: 0.8689 - val_loss: 0.5271 - val_accuracy: 0.8316\n",
      "Epoch 102/150\n",
      "439/440 [============================>.] - ETA: 0s - loss: 0.3656 - accuracy: 0.8730WARNING:tensorflow:Can save best model only with val_acc available, skipping.\n",
      "440/440 [==============================] - 12s 27ms/step - loss: 0.3653 - accuracy: 0.8730 - val_loss: 0.4879 - val_accuracy: 0.8495\n",
      "Epoch 103/150\n",
      "438/440 [============================>.] - ETA: 0s - loss: 0.3800 - accuracy: 0.8700WARNING:tensorflow:Can save best model only with val_acc available, skipping.\n",
      "440/440 [==============================] - 12s 28ms/step - loss: 0.3804 - accuracy: 0.8698 - val_loss: 0.7316 - val_accuracy: 0.7591\n",
      "Epoch 104/150\n",
      "439/440 [============================>.] - ETA: 0s - loss: 0.3624 - accuracy: 0.8737WARNING:tensorflow:Can save best model only with val_acc available, skipping.\n",
      "440/440 [==============================] - 12s 28ms/step - loss: 0.3629 - accuracy: 0.8736 - val_loss: 0.6835 - val_accuracy: 0.7693\n",
      "Epoch 105/150\n",
      "440/440 [==============================] - ETA: 0s - loss: 0.3599 - accuracy: 0.8740WARNING:tensorflow:Can save best model only with val_acc available, skipping.\n",
      "440/440 [==============================] - 12s 27ms/step - loss: 0.3599 - accuracy: 0.8740 - val_loss: 0.6464 - val_accuracy: 0.7864\n",
      "Epoch 106/150\n",
      "439/440 [============================>.] - ETA: 0s - loss: 0.3638 - accuracy: 0.8742WARNING:tensorflow:Can save best model only with val_acc available, skipping.\n",
      "440/440 [==============================] - 12s 27ms/step - loss: 0.3638 - accuracy: 0.8742 - val_loss: 0.5008 - val_accuracy: 0.8354\n",
      "Epoch 107/150\n",
      "439/440 [============================>.] - ETA: 0s - loss: 0.3477 - accuracy: 0.8810WARNING:tensorflow:Can save best model only with val_acc available, skipping.\n",
      "440/440 [==============================] - 12s 27ms/step - loss: 0.3476 - accuracy: 0.8810 - val_loss: 0.4275 - val_accuracy: 0.8606\n",
      "Epoch 108/150\n",
      "440/440 [==============================] - ETA: 0s - loss: 0.3614 - accuracy: 0.8732WARNING:tensorflow:Can save best model only with val_acc available, skipping.\n",
      "440/440 [==============================] - 12s 27ms/step - loss: 0.3614 - accuracy: 0.8732 - val_loss: 0.5610 - val_accuracy: 0.8305\n",
      "Epoch 109/150\n",
      "440/440 [==============================] - ETA: 0s - loss: 0.3504 - accuracy: 0.8799WARNING:tensorflow:Can save best model only with val_acc available, skipping.\n",
      "440/440 [==============================] - 12s 27ms/step - loss: 0.3504 - accuracy: 0.8799 - val_loss: 0.5902 - val_accuracy: 0.8081\n",
      "Epoch 110/150\n",
      "439/440 [============================>.] - ETA: 0s - loss: 0.3569 - accuracy: 0.8766WARNING:tensorflow:Can save best model only with val_acc available, skipping.\n",
      "440/440 [==============================] - 12s 27ms/step - loss: 0.3568 - accuracy: 0.8766 - val_loss: 0.5195 - val_accuracy: 0.8388\n",
      "Epoch 111/150\n",
      "440/440 [==============================] - ETA: 0s - loss: 0.3476 - accuracy: 0.8809WARNING:tensorflow:Can save best model only with val_acc available, skipping.\n",
      "440/440 [==============================] - 12s 27ms/step - loss: 0.3476 - accuracy: 0.8809 - val_loss: 0.4626 - val_accuracy: 0.8533\n",
      "Epoch 112/150\n",
      "440/440 [==============================] - ETA: 0s - loss: 0.3401 - accuracy: 0.8817WARNING:tensorflow:Can save best model only with val_acc available, skipping.\n",
      "440/440 [==============================] - 12s 27ms/step - loss: 0.3401 - accuracy: 0.8817 - val_loss: 0.4851 - val_accuracy: 0.8472\n",
      "Epoch 113/150\n",
      "439/440 [============================>.] - ETA: 0s - loss: 0.3391 - accuracy: 0.8826WARNING:tensorflow:Can save best model only with val_acc available, skipping.\n",
      "440/440 [==============================] - 12s 27ms/step - loss: 0.3392 - accuracy: 0.8827 - val_loss: 0.5264 - val_accuracy: 0.8273\n",
      "Epoch 114/150\n",
      "440/440 [==============================] - ETA: 0s - loss: 0.3532 - accuracy: 0.8804WARNING:tensorflow:Can save best model only with val_acc available, skipping.\n",
      "440/440 [==============================] - 12s 27ms/step - loss: 0.3532 - accuracy: 0.8804 - val_loss: 0.4621 - val_accuracy: 0.8467\n",
      "Epoch 115/150\n",
      "438/440 [============================>.] - ETA: 0s - loss: 0.3524 - accuracy: 0.8794WARNING:tensorflow:Can save best model only with val_acc available, skipping.\n",
      "440/440 [==============================] - 12s 27ms/step - loss: 0.3521 - accuracy: 0.8794 - val_loss: 0.4402 - val_accuracy: 0.8570\n",
      "Epoch 116/150\n",
      "440/440 [==============================] - ETA: 0s - loss: 0.3299 - accuracy: 0.8851WARNING:tensorflow:Can save best model only with val_acc available, skipping.\n",
      "440/440 [==============================] - 12s 27ms/step - loss: 0.3299 - accuracy: 0.8851 - val_loss: 0.6167 - val_accuracy: 0.8049\n",
      "Epoch 117/150\n",
      "438/440 [============================>.] - ETA: 0s - loss: 0.3366 - accuracy: 0.8848WARNING:tensorflow:Can save best model only with val_acc available, skipping.\n",
      "440/440 [==============================] - 12s 26ms/step - loss: 0.3363 - accuracy: 0.8850 - val_loss: 0.5045 - val_accuracy: 0.8416\n",
      "Epoch 118/150\n",
      "438/440 [============================>.] - ETA: 0s - loss: 0.3267 - accuracy: 0.8891WARNING:tensorflow:Can save best model only with val_acc available, skipping.\n",
      "440/440 [==============================] - 11s 26ms/step - loss: 0.3273 - accuracy: 0.8890 - val_loss: 0.4499 - val_accuracy: 0.8565\n",
      "Epoch 119/150\n",
      "439/440 [============================>.] - ETA: 0s - loss: 0.3418 - accuracy: 0.8843WARNING:tensorflow:Can save best model only with val_acc available, skipping.\n",
      "440/440 [==============================] - 11s 26ms/step - loss: 0.3428 - accuracy: 0.8841 - val_loss: 0.5340 - val_accuracy: 0.8271\n",
      "Epoch 120/150\n",
      "440/440 [==============================] - ETA: 0s - loss: 0.3351 - accuracy: 0.8846WARNING:tensorflow:Can save best model only with val_acc available, skipping.\n",
      "440/440 [==============================] - 11s 26ms/step - loss: 0.3351 - accuracy: 0.8846 - val_loss: 0.5798 - val_accuracy: 0.8075\n",
      "Epoch 121/150\n",
      "439/440 [============================>.] - ETA: 0s - loss: 0.3296 - accuracy: 0.8858WARNING:tensorflow:Can save best model only with val_acc available, skipping.\n",
      "440/440 [==============================] - 11s 26ms/step - loss: 0.3295 - accuracy: 0.8859 - val_loss: 0.5606 - val_accuracy: 0.8143\n",
      "Epoch 122/150\n",
      "440/440 [==============================] - ETA: 0s - loss: 0.3271 - accuracy: 0.8870WARNING:tensorflow:Can save best model only with val_acc available, skipping.\n",
      "440/440 [==============================] - 11s 26ms/step - loss: 0.3271 - accuracy: 0.8870 - val_loss: 0.5192 - val_accuracy: 0.8250\n",
      "Epoch 123/150\n",
      "439/440 [============================>.] - ETA: 0s - loss: 0.3115 - accuracy: 0.8909WARNING:tensorflow:Can save best model only with val_acc available, skipping.\n",
      "440/440 [==============================] - 11s 26ms/step - loss: 0.3115 - accuracy: 0.8909 - val_loss: 0.5229 - val_accuracy: 0.8384\n",
      "Epoch 124/150\n",
      "438/440 [============================>.] - ETA: 0s - loss: 0.3243 - accuracy: 0.8859WARNING:tensorflow:Can save best model only with val_acc available, skipping.\n",
      "440/440 [==============================] - 11s 26ms/step - loss: 0.3240 - accuracy: 0.8861 - val_loss: 0.6061 - val_accuracy: 0.8111\n",
      "Epoch 125/150\n",
      "440/440 [==============================] - ETA: 0s - loss: 0.3206 - accuracy: 0.8928WARNING:tensorflow:Can save best model only with val_acc available, skipping.\n",
      "440/440 [==============================] - 11s 25ms/step - loss: 0.3206 - accuracy: 0.8928 - val_loss: 0.4998 - val_accuracy: 0.8429\n",
      "Epoch 126/150\n",
      "438/440 [============================>.] - ETA: 0s - loss: 0.3122 - accuracy: 0.8923WARNING:tensorflow:Can save best model only with val_acc available, skipping.\n",
      "440/440 [==============================] - 11s 25ms/step - loss: 0.3121 - accuracy: 0.8923 - val_loss: 0.4498 - val_accuracy: 0.8591\n",
      "Epoch 127/150\n",
      "440/440 [==============================] - ETA: 0s - loss: 0.3097 - accuracy: 0.8949WARNING:tensorflow:Can save best model only with val_acc available, skipping.\n",
      "440/440 [==============================] - 11s 26ms/step - loss: 0.3097 - accuracy: 0.8949 - val_loss: 0.5599 - val_accuracy: 0.8182\n",
      "Epoch 128/150\n",
      "438/440 [============================>.] - ETA: 0s - loss: 0.3138 - accuracy: 0.8947WARNING:tensorflow:Can save best model only with val_acc available, skipping.\n",
      "440/440 [==============================] - 11s 26ms/step - loss: 0.3141 - accuracy: 0.8945 - val_loss: 0.4520 - val_accuracy: 0.8587\n",
      "Epoch 129/150\n",
      "439/440 [============================>.] - ETA: 0s - loss: 0.3505 - accuracy: 0.8838WARNING:tensorflow:Can save best model only with val_acc available, skipping.\n",
      "440/440 [==============================] - 11s 26ms/step - loss: 0.3500 - accuracy: 0.8839 - val_loss: 0.4514 - val_accuracy: 0.8525\n",
      "Epoch 130/150\n",
      "439/440 [============================>.] - ETA: 0s - loss: 0.3149 - accuracy: 0.8920WARNING:tensorflow:Can save best model only with val_acc available, skipping.\n",
      "440/440 [==============================] - 11s 26ms/step - loss: 0.3146 - accuracy: 0.8921 - val_loss: 0.4521 - val_accuracy: 0.8715\n",
      "Epoch 131/150\n",
      "438/440 [============================>.] - ETA: 0s - loss: 0.3154 - accuracy: 0.8937WARNING:tensorflow:Can save best model only with val_acc available, skipping.\n",
      "440/440 [==============================] - 11s 26ms/step - loss: 0.3167 - accuracy: 0.8933 - val_loss: 0.4248 - val_accuracy: 0.8742\n",
      "Epoch 132/150\n",
      "438/440 [============================>.] - ETA: 0s - loss: 0.3127 - accuracy: 0.8920WARNING:tensorflow:Can save best model only with val_acc available, skipping.\n",
      "440/440 [==============================] - 11s 25ms/step - loss: 0.3124 - accuracy: 0.8919 - val_loss: 0.4490 - val_accuracy: 0.8561\n",
      "Epoch 133/150\n",
      "439/440 [============================>.] - ETA: 0s - loss: 0.2952 - accuracy: 0.9002WARNING:tensorflow:Can save best model only with val_acc available, skipping.\n",
      "440/440 [==============================] - 11s 26ms/step - loss: 0.2949 - accuracy: 0.9004 - val_loss: 0.4748 - val_accuracy: 0.8450\n",
      "Epoch 134/150\n",
      "440/440 [==============================] - ETA: 0s - loss: 0.3026 - accuracy: 0.8979WARNING:tensorflow:Can save best model only with val_acc available, skipping.\n",
      "440/440 [==============================] - 11s 26ms/step - loss: 0.3026 - accuracy: 0.8979 - val_loss: 0.5745 - val_accuracy: 0.8158\n",
      "Epoch 135/150\n",
      "440/440 [==============================] - ETA: 0s - loss: 0.2979 - accuracy: 0.8963WARNING:tensorflow:Can save best model only with val_acc available, skipping.\n",
      "440/440 [==============================] - 11s 26ms/step - loss: 0.2979 - accuracy: 0.8963 - val_loss: 0.4902 - val_accuracy: 0.8395\n",
      "Epoch 136/150\n",
      "439/440 [============================>.] - ETA: 0s - loss: 0.2974 - accuracy: 0.8996WARNING:tensorflow:Can save best model only with val_acc available, skipping.\n",
      "440/440 [==============================] - 11s 26ms/step - loss: 0.2970 - accuracy: 0.8997 - val_loss: 0.4602 - val_accuracy: 0.8550\n",
      "Epoch 137/150\n",
      "438/440 [============================>.] - ETA: 0s - loss: 0.3012 - accuracy: 0.8968WARNING:tensorflow:Can save best model only with val_acc available, skipping.\n",
      "440/440 [==============================] - 11s 26ms/step - loss: 0.3005 - accuracy: 0.8971 - val_loss: 0.4621 - val_accuracy: 0.8548\n",
      "Epoch 138/150\n",
      "439/440 [============================>.] - ETA: 0s - loss: 0.2951 - accuracy: 0.9013WARNING:tensorflow:Can save best model only with val_acc available, skipping.\n",
      "440/440 [==============================] - 11s 25ms/step - loss: 0.2953 - accuracy: 0.9013 - val_loss: 0.6049 - val_accuracy: 0.8009\n",
      "Epoch 139/150\n",
      "440/440 [==============================] - ETA: 0s - loss: 0.2915 - accuracy: 0.9003WARNING:tensorflow:Can save best model only with val_acc available, skipping.\n",
      "440/440 [==============================] - 11s 26ms/step - loss: 0.2915 - accuracy: 0.9003 - val_loss: 0.4216 - val_accuracy: 0.8776\n",
      "Epoch 140/150\n",
      "440/440 [==============================] - ETA: 0s - loss: 0.2807 - accuracy: 0.9031WARNING:tensorflow:Can save best model only with val_acc available, skipping.\n",
      "440/440 [==============================] - 11s 26ms/step - loss: 0.2807 - accuracy: 0.9031 - val_loss: 0.4456 - val_accuracy: 0.8582\n",
      "Epoch 141/150\n",
      "440/440 [==============================] - ETA: 0s - loss: 0.2864 - accuracy: 0.8982WARNING:tensorflow:Can save best model only with val_acc available, skipping.\n",
      "440/440 [==============================] - 11s 26ms/step - loss: 0.2864 - accuracy: 0.8982 - val_loss: 0.4595 - val_accuracy: 0.8621\n",
      "Epoch 142/150\n",
      "438/440 [============================>.] - ETA: 0s - loss: 0.2926 - accuracy: 0.9008WARNING:tensorflow:Can save best model only with val_acc available, skipping.\n",
      "440/440 [==============================] - 11s 26ms/step - loss: 0.2934 - accuracy: 0.9005 - val_loss: 0.4541 - val_accuracy: 0.8702\n",
      "Epoch 143/150\n",
      "439/440 [============================>.] - ETA: 0s - loss: 0.2897 - accuracy: 0.9006WARNING:tensorflow:Can save best model only with val_acc available, skipping.\n",
      "440/440 [==============================] - 11s 26ms/step - loss: 0.2900 - accuracy: 0.9005 - val_loss: 0.4336 - val_accuracy: 0.8670\n",
      "Epoch 144/150\n",
      "438/440 [============================>.] - ETA: 0s - loss: 0.2895 - accuracy: 0.9021WARNING:tensorflow:Can save best model only with val_acc available, skipping.\n",
      "440/440 [==============================] - 11s 26ms/step - loss: 0.2892 - accuracy: 0.9024 - val_loss: 0.4649 - val_accuracy: 0.8542\n",
      "Epoch 145/150\n",
      "440/440 [==============================] - ETA: 0s - loss: 0.2756 - accuracy: 0.9069WARNING:tensorflow:Can save best model only with val_acc available, skipping.\n",
      "440/440 [==============================] - 11s 26ms/step - loss: 0.2756 - accuracy: 0.9069 - val_loss: 0.4293 - val_accuracy: 0.8717\n",
      "Epoch 146/150\n",
      "440/440 [==============================] - ETA: 0s - loss: 0.2839 - accuracy: 0.9032WARNING:tensorflow:Can save best model only with val_acc available, skipping.\n",
      "440/440 [==============================] - 11s 26ms/step - loss: 0.2839 - accuracy: 0.9032 - val_loss: 0.4357 - val_accuracy: 0.8636\n",
      "Epoch 147/150\n",
      "440/440 [==============================] - ETA: 0s - loss: 0.2826 - accuracy: 0.9052WARNING:tensorflow:Can save best model only with val_acc available, skipping.\n",
      "440/440 [==============================] - 11s 26ms/step - loss: 0.2826 - accuracy: 0.9052 - val_loss: 0.5176 - val_accuracy: 0.8282\n",
      "Epoch 148/150\n",
      "439/440 [============================>.] - ETA: 0s - loss: 0.2645 - accuracy: 0.9090WARNING:tensorflow:Can save best model only with val_acc available, skipping.\n",
      "440/440 [==============================] - 11s 26ms/step - loss: 0.2647 - accuracy: 0.9088 - val_loss: 0.4666 - val_accuracy: 0.8693\n",
      "Epoch 149/150\n",
      "440/440 [==============================] - ETA: 0s - loss: 0.2914 - accuracy: 0.9011WARNING:tensorflow:Can save best model only with val_acc available, skipping.\n",
      "440/440 [==============================] - 11s 25ms/step - loss: 0.2914 - accuracy: 0.9011 - val_loss: 0.5263 - val_accuracy: 0.8361\n",
      "Epoch 150/150\n",
      "440/440 [==============================] - ETA: 0s - loss: 0.2769 - accuracy: 0.9066WARNING:tensorflow:Can save best model only with val_acc available, skipping.\n",
      "440/440 [==============================] - 11s 26ms/step - loss: 0.2769 - accuracy: 0.9066 - val_loss: 0.5075 - val_accuracy: 0.8457\n"
     ]
    }
   ],
   "source": [
    "\n",
    "history = model.fit(trainX, trainY, batch_size=batch_size, epochs=EPOCHS, verbose=1, callbacks=[es,mc],validation_data=(cvX, cvY))"
   ]
  },
  {
   "cell_type": "code",
   "execution_count": null,
   "metadata": {},
   "outputs": [],
   "source": [
    "import pickle"
   ]
  },
  {
   "cell_type": "code",
   "execution_count": null,
   "metadata": {},
   "outputs": [],
   "source": []
  },
  {
   "cell_type": "code",
   "execution_count": null,
   "metadata": {},
   "outputs": [
    {
     "ename": "NameError",
     "evalue": "name 'plt' is not defined",
     "output_type": "error",
     "traceback": [
      "\u001b[1;31m---------------------------------------------------------------------------\u001b[0m",
      "\u001b[1;31mNameError\u001b[0m                                 Traceback (most recent call last)",
      "\u001b[1;32m<ipython-input-3-dec55c274d80>\u001b[0m in \u001b[0;36m<module>\u001b[1;34m\u001b[0m\n\u001b[0;32m      1\u001b[0m \u001b[1;31m# plot the training loss\u001b[0m\u001b[1;33m\u001b[0m\u001b[1;33m\u001b[0m\u001b[1;33m\u001b[0m\u001b[0m\n\u001b[0;32m      2\u001b[0m \u001b[0mN\u001b[0m \u001b[1;33m=\u001b[0m \u001b[0mEPOCHS\u001b[0m\u001b[1;33m\u001b[0m\u001b[1;33m\u001b[0m\u001b[0m\n\u001b[1;32m----> 3\u001b[1;33m \u001b[0mplt\u001b[0m\u001b[1;33m.\u001b[0m\u001b[0mstyle\u001b[0m\u001b[1;33m.\u001b[0m\u001b[0muse\u001b[0m\u001b[1;33m(\u001b[0m\u001b[1;34m\"ggplot\"\u001b[0m\u001b[1;33m)\u001b[0m\u001b[1;33m\u001b[0m\u001b[1;33m\u001b[0m\u001b[0m\n\u001b[0m\u001b[0;32m      4\u001b[0m \u001b[0mplt\u001b[0m\u001b[1;33m.\u001b[0m\u001b[0mfigure\u001b[0m\u001b[1;33m(\u001b[0m\u001b[1;33m)\u001b[0m\u001b[1;33m\u001b[0m\u001b[1;33m\u001b[0m\u001b[0m\n\u001b[0;32m      5\u001b[0m \u001b[0mplt\u001b[0m\u001b[1;33m.\u001b[0m\u001b[0mplot\u001b[0m\u001b[1;33m(\u001b[0m\u001b[0mnp\u001b[0m\u001b[1;33m.\u001b[0m\u001b[0marange\u001b[0m\u001b[1;33m(\u001b[0m\u001b[1;36m0\u001b[0m\u001b[1;33m,\u001b[0m \u001b[0mN\u001b[0m\u001b[1;33m)\u001b[0m\u001b[1;33m,\u001b[0m \u001b[0mhistory\u001b[0m\u001b[1;33m.\u001b[0m\u001b[0mhistory\u001b[0m\u001b[1;33m[\u001b[0m\u001b[1;34m\"loss\"\u001b[0m\u001b[1;33m]\u001b[0m\u001b[1;33m,\u001b[0m \u001b[0mlabel\u001b[0m\u001b[1;33m=\u001b[0m\u001b[1;34m\"train_loss\"\u001b[0m\u001b[1;33m)\u001b[0m\u001b[1;33m\u001b[0m\u001b[1;33m\u001b[0m\u001b[0m\n",
      "\u001b[1;31mNameError\u001b[0m: name 'plt' is not defined"
     ]
    }
   ],
   "source": [
    "# plot the training loss\n",
    "N = EPOCHS\n",
    "plt.style.use(\"ggplot\")\n",
    "plt.figure()\n",
    "plt.plot(np.arange(0, N), history.history[\"loss\"], label=\"train_loss\")\n",
    "plt.plot(np.arange(0, N), history.history[\"val_loss\"], label=\"val_loss\")\n",
    "#plt.plot(np.arange(0, N), history.history[\"accuracy\"], label=\"train_acc\")\n",
    "#plt.plot(np.arange(0, N), history.history[\"val_accuracy\"], label=\"val_acc\")\n",
    "plt.title(\"Train/CV Loss on Speech-To-Text Dataset\")\n",
    "plt.xlabel(\"Epoch #\")\n",
    "plt.ylabel(\"Loss\")\n",
    "plt.legend(loc=\"lower left\")"
   ]
  },
  {
   "cell_type": "code",
   "execution_count": null,
   "metadata": {},
   "outputs": [
    {
     "data": {
      "text/plain": [
       "<matplotlib.legend.Legend at 0x1841eb93c50>"
      ]
     },
     "execution_count": 109,
     "metadata": {},
     "output_type": "execute_result"
    },
    {
     "data": {
      "image/png": "[encoded data removed]",
      "text/plain": [
       "<Figure size 432x288 with 1 Axes>"
      ]
     },
     "metadata": {},
     "output_type": "display_data"
    }
   ],
   "source": [
    "# plot the training accuracy\n",
    "N = EPOCHS\n",
    "#plt.style.use(\"ggplot\")\n",
    "plt.figure()\n",
    "#plt.plot(np.arange(0, N), history.history[\"loss\"], label=\"train_loss\")\n",
    "#plt.plot(np.arange(0, N), history.history[\"val_loss\"], label=\"val_loss\")\n",
    "plt.plot(np.arange(0, N), history.history[\"accuracy\"], label=\"train_acc\")\n",
    "plt.plot(np.arange(0, N), history.history[\"val_accuracy\"], label=\"val_acc\")\n",
    "plt.title(\"Train and CV Accuracy on Speech-To-Text Dataset\")\n",
    "plt.xlabel(\"Epoch #\")\n",
    "plt.ylabel(\"Accuracy\")\n",
    "plt.legend(loc=\"lower left\")"
   ]
  },
  {
   "cell_type": "code",
   "execution_count": null,
   "metadata": {},
   "outputs": [],
   "source": [
    "best_acc = max(history.history[\"val_accuracy\"])"
   ]
  },
  {
   "cell_type": "code",
   "execution_count": null,
   "metadata": {},
   "outputs": [
    {
     "data": {
      "text/plain": [
       "85.4188859462738"
      ]
     },
     "execution_count": 113,
     "metadata": {},
     "output_type": "execute_result"
    }
   ],
   "source": [
    "best_acc*100"
   ]
  },
  {
   "cell_type": "code",
   "execution_count": null,
   "metadata": {},
   "outputs": [
    {
     "ename": "NameError",
     "evalue": "name 'model' is not defined",
     "output_type": "error",
     "traceback": [
      "\u001b[1;31m---------------------------------------------------------------------------\u001b[0m",
      "\u001b[1;31mNameError\u001b[0m                                 Traceback (most recent call last)",
      "\u001b[1;32m<ipython-input-4-ba30938ee215>\u001b[0m in \u001b[0;36m<module>\u001b[1;34m\u001b[0m\n\u001b[0;32m      1\u001b[0m \u001b[1;31m# make predictions on the testing set\u001b[0m\u001b[1;33m\u001b[0m\u001b[1;33m\u001b[0m\u001b[1;33m\u001b[0m\u001b[0m\n\u001b[1;32m----> 2\u001b[1;33m \u001b[0mpredIdxs\u001b[0m \u001b[1;33m=\u001b[0m \u001b[0mmodel\u001b[0m\u001b[1;33m.\u001b[0m\u001b[0mpredict\u001b[0m\u001b[1;33m(\u001b[0m\u001b[0mtestX\u001b[0m\u001b[1;33m,\u001b[0m \u001b[0mbatch_size\u001b[0m\u001b[1;33m=\u001b[0m\u001b[0mbatch_size\u001b[0m\u001b[1;33m)\u001b[0m\u001b[1;33m\u001b[0m\u001b[1;33m\u001b[0m\u001b[0m\n\u001b[0m",
      "\u001b[1;31mNameError\u001b[0m: name 'model' is not defined"
     ]
    }
   ],
   "source": [
    "# make predictions on the testing set\n",
    "predIdxs = model.predict(testX, batch_size=batch_size)"
   ]
  },
  {
   "cell_type": "code",
   "execution_count": null,
   "metadata": {},
   "outputs": [],
   "source": [
    "# for each image in the testing set we need to find the index of the\n",
    "# label with corresponding largest predicted probability\n",
    "predIdxs = np.argmax(predIdxs, axis=1)"
   ]
  },
  {
   "cell_type": "code",
   "execution_count": null,
   "metadata": {},
   "outputs": [],
   "source": [
    "def plot_Confusion_Matrix(actual_labels,predict_labels,title):\n",
    "    \"\"\"This function plot the confusion matrix\"\"\"\n",
    "    # Reference : https://seaborn.pydata.org/generated/seaborn.heatmap.html\n",
    "    cm = confusion_matrix(actual_labels, predict_labels)\n",
    "    classNames = words\n",
    "    cm_data = pd.DataFrame(cm,index = classNames,\n",
    "                  columns = classNames)\n",
    "    plt.figure(figsize = (8,8))\n",
    "    sns.heatmap(cm_data, annot=True,fmt=\"d\")\n",
    "    plt.title(title)\n",
    "    plt.ylabel('Actual label')\n",
    "    plt.xlabel('Predicted label')\n",
    "    plt.show()\n"
   ]
  },
  {
   "cell_type": "code",
   "execution_count": null,
   "metadata": {},
   "outputs": [
    {
     "data": {
      "image/png": "[encoded data removed]",
      "text/plain": [
       "<Figure size 576x576 with 2 Axes>"
      ]
     },
     "metadata": {},
     "output_type": "display_data"
    }
   ],
   "source": [
    "import pandas as pd\n",
    "import seaborn as sns\n",
    "from sklearn.metrics import confusion_matrix\n",
    "\n",
    "plot_Confusion_Matrix(testY.argmax(axis=1), predIdxs,\"Confusion Matrix\")"
   ]
  },
  {
   "cell_type": "markdown",
   "metadata": {},
   "source": [
    "## Results"
   ]
  },
  {
   "cell_type": "code",
   "execution_count": null,
   "metadata": {},
   "outputs": [
    {
     "name": "stdout",
     "output_type": "stream",
     "text": [
      "+-------------------------------------------+\n",
      "|               Model Results               |\n",
      "+------------------+-------------+----------+\n",
      "|       Mode       | Sample size | Accuracy |\n",
      "+------------------+-------------+----------+\n",
      "|      Train       |    14073    |  89.03   |\n",
      "| Cross-Validation |     4691    |  85.41   |\n",
      "|       Test       |     4691    |  85.44   |\n",
      "+------------------+-------------+----------+\n"
     ]
    }
   ],
   "source": [
    "from prettytable import PrettyTable\n",
    "ptable = PrettyTable()\n",
    "ptable.title = \" Model Results \"\n",
    "ptable.field_names = [\"Mode\",'Sample size','Accuracy']\n",
    "ptable.add_row([\"Train\",\"14073\",\"89.03\"])\n",
    "ptable.add_row([\"Cross-Validation\",\"4691\",\"85.41\"])\n",
    "ptable.add_row([\"Test\",\"4691\",\"85.44\"])\n",
    "print(ptable)"
   ]
  },
  {
   "cell_type": "code",
   "execution_count": null,
   "metadata": {},
   "outputs": [],
   "source": []
  }
 ],
 "metadata": {
  "kernelspec": {
   "display_name": "Python 3.8.8 ('base')",
   "language": "python",
   "name": "python3"
  },
  "language_info": {
   "codemirror_mode": {
    "name": "ipython",
    "version": 3
   },
   "file_extension": ".py",
   "mimetype": "text/x-python",
   "name": "python",
   "nbconvert_exporter": "python",
   "pygments_lexer": "ipython3",
   "version": "3.8.8"
  },
  "vscode": {
   "interpreter": {
    "hash": "81f6155dc99dcb51114bf7b4fbaa987eb10d2451af0ab3786bebbe1c85cc4899"
   }
  }
 },
 "nbformat": 4,
 "nbformat_minor": 2
}
